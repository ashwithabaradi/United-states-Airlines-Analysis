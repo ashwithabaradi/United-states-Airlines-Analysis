{
 "cells": [
  {
   "cell_type": "markdown",
   "id": "5fe223e2",
   "metadata": {},
   "source": [
    "## Problem statement:\n",
    "### According to air travel consumer reports, a large proportion of consumer complaints are about frequent flight delays. Out of all the complaints received from consumers about airline services, 32% were related to cancellations, delays, or other deviations from the airlines’ schedules.There are unavoidable delays that can be caused by air traffic, no passengers at the airport, weather conditions, mechanical issues, passengers coming from delayed connecting flights, security clearance, and aircraft preparation."
   ]
  },
  {
   "cell_type": "markdown",
   "id": "4b213057",
   "metadata": {},
   "source": [
    "## Objective:\n",
    "### The objective of this project is to identify the factors that contribute to avoidable flight delays, and also required to build a model to predict if the flight will be delayed."
   ]
  },
  {
   "cell_type": "markdown",
   "id": "f414390a",
   "metadata": {},
   "source": [
    "### Importing necessary Libraries"
   ]
  },
  {
   "cell_type": "code",
   "execution_count": 68,
   "id": "158f6aac",
   "metadata": {},
   "outputs": [],
   "source": [
    "# Data manipulation\n",
    "import numpy as np\n",
    "import pandas as pd\n",
    "\n",
    "# Data visualization\n",
    "import matplotlib.pyplot as plt\n",
    "import seaborn as sns\n",
    "\n",
    "# warnings\n",
    "import warnings\n",
    "warnings.simplefilter('ignore')"
   ]
  },
  {
   "cell_type": "markdown",
   "id": "b108d9c2",
   "metadata": {},
   "source": [
    "## -- Reading data from all the datasets"
   ]
  },
  {
   "cell_type": "code",
   "execution_count": 136,
   "id": "81a6c58c",
   "metadata": {},
   "outputs": [
    {
     "data": {
      "text/html": [
       "<div>\n",
       "<style scoped>\n",
       "    .dataframe tbody tr th:only-of-type {\n",
       "        vertical-align: middle;\n",
       "    }\n",
       "\n",
       "    .dataframe tbody tr th {\n",
       "        vertical-align: top;\n",
       "    }\n",
       "\n",
       "    .dataframe thead th {\n",
       "        text-align: right;\n",
       "    }\n",
       "</style>\n",
       "<table border=\"1\" class=\"dataframe\">\n",
       "  <thead>\n",
       "    <tr style=\"text-align: right;\">\n",
       "      <th></th>\n",
       "      <th>id</th>\n",
       "      <th>Airline</th>\n",
       "      <th>Flight</th>\n",
       "      <th>AirportFrom</th>\n",
       "      <th>AirportTo</th>\n",
       "      <th>DayOfWeek</th>\n",
       "      <th>Time</th>\n",
       "      <th>Length</th>\n",
       "      <th>Delay</th>\n",
       "    </tr>\n",
       "  </thead>\n",
       "  <tbody>\n",
       "    <tr>\n",
       "      <th>0</th>\n",
       "      <td>1</td>\n",
       "      <td>CO</td>\n",
       "      <td>269</td>\n",
       "      <td>SFO</td>\n",
       "      <td>IAH</td>\n",
       "      <td>3</td>\n",
       "      <td>15</td>\n",
       "      <td>205</td>\n",
       "      <td>1</td>\n",
       "    </tr>\n",
       "    <tr>\n",
       "      <th>1</th>\n",
       "      <td>2</td>\n",
       "      <td>US</td>\n",
       "      <td>1558</td>\n",
       "      <td>PHX</td>\n",
       "      <td>CLT</td>\n",
       "      <td>3</td>\n",
       "      <td>15</td>\n",
       "      <td>222</td>\n",
       "      <td>1</td>\n",
       "    </tr>\n",
       "  </tbody>\n",
       "</table>\n",
       "</div>"
      ],
      "text/plain": [
       "   id Airline  Flight AirportFrom AirportTo  DayOfWeek  Time  Length  Delay\n",
       "0   1      CO     269         SFO       IAH          3    15     205      1\n",
       "1   2      US    1558         PHX       CLT          3    15     222      1"
      ]
     },
     "execution_count": 136,
     "metadata": {},
     "output_type": "execute_result"
    }
   ],
   "source": [
    "df1=pd.read_excel('Documents/Simplilearn Course/Datasets (1)/Capstone_3/Airlines.xlsx')\n",
    "df1.head(2)"
   ]
  },
  {
   "cell_type": "code",
   "execution_count": 137,
   "id": "f80a258c",
   "metadata": {},
   "outputs": [
    {
     "data": {
      "text/html": [
       "<div>\n",
       "<style scoped>\n",
       "    .dataframe tbody tr th:only-of-type {\n",
       "        vertical-align: middle;\n",
       "    }\n",
       "\n",
       "    .dataframe tbody tr th {\n",
       "        vertical-align: top;\n",
       "    }\n",
       "\n",
       "    .dataframe thead th {\n",
       "        text-align: right;\n",
       "    }\n",
       "</style>\n",
       "<table border=\"1\" class=\"dataframe\">\n",
       "  <thead>\n",
       "    <tr style=\"text-align: right;\">\n",
       "      <th></th>\n",
       "      <th>id</th>\n",
       "      <th>ident</th>\n",
       "      <th>type</th>\n",
       "      <th>name</th>\n",
       "      <th>latitude_deg</th>\n",
       "      <th>longitude_deg</th>\n",
       "      <th>elevation_ft</th>\n",
       "      <th>continent</th>\n",
       "      <th>iso_country</th>\n",
       "      <th>iso_region</th>\n",
       "      <th>municipality</th>\n",
       "      <th>scheduled_service</th>\n",
       "      <th>gps_code</th>\n",
       "      <th>iata_code</th>\n",
       "      <th>local_code</th>\n",
       "      <th>home_link</th>\n",
       "      <th>wikipedia_link</th>\n",
       "      <th>keywords</th>\n",
       "    </tr>\n",
       "  </thead>\n",
       "  <tbody>\n",
       "    <tr>\n",
       "      <th>0</th>\n",
       "      <td>6523</td>\n",
       "      <td>00A</td>\n",
       "      <td>heliport</td>\n",
       "      <td>Total Rf Heliport</td>\n",
       "      <td>40.070801</td>\n",
       "      <td>-74.933601</td>\n",
       "      <td>11.0</td>\n",
       "      <td>NaN</td>\n",
       "      <td>US</td>\n",
       "      <td>US-PA</td>\n",
       "      <td>Bensalem</td>\n",
       "      <td>no</td>\n",
       "      <td>00A</td>\n",
       "      <td>NaN</td>\n",
       "      <td>00A</td>\n",
       "      <td>NaN</td>\n",
       "      <td>NaN</td>\n",
       "      <td>NaN</td>\n",
       "    </tr>\n",
       "    <tr>\n",
       "      <th>1</th>\n",
       "      <td>323361</td>\n",
       "      <td>00AA</td>\n",
       "      <td>small_airport</td>\n",
       "      <td>Aero B Ranch Airport</td>\n",
       "      <td>38.704022</td>\n",
       "      <td>-101.473911</td>\n",
       "      <td>3435.0</td>\n",
       "      <td>NaN</td>\n",
       "      <td>US</td>\n",
       "      <td>US-KS</td>\n",
       "      <td>Leoti</td>\n",
       "      <td>no</td>\n",
       "      <td>00AA</td>\n",
       "      <td>NaN</td>\n",
       "      <td>00AA</td>\n",
       "      <td>NaN</td>\n",
       "      <td>NaN</td>\n",
       "      <td>NaN</td>\n",
       "    </tr>\n",
       "  </tbody>\n",
       "</table>\n",
       "</div>"
      ],
      "text/plain": [
       "       id ident           type                  name  latitude_deg  \\\n",
       "0    6523   00A       heliport     Total Rf Heliport     40.070801   \n",
       "1  323361  00AA  small_airport  Aero B Ranch Airport     38.704022   \n",
       "\n",
       "   longitude_deg  elevation_ft continent iso_country iso_region municipality  \\\n",
       "0     -74.933601          11.0       NaN          US      US-PA     Bensalem   \n",
       "1    -101.473911        3435.0       NaN          US      US-KS        Leoti   \n",
       "\n",
       "  scheduled_service gps_code iata_code local_code home_link wikipedia_link  \\\n",
       "0                no      00A       NaN        00A       NaN            NaN   \n",
       "1                no     00AA       NaN       00AA       NaN            NaN   \n",
       "\n",
       "  keywords  \n",
       "0      NaN  \n",
       "1      NaN  "
      ]
     },
     "execution_count": 137,
     "metadata": {},
     "output_type": "execute_result"
    }
   ],
   "source": [
    "df2=pd.read_excel('Documents/Simplilearn Course/Datasets (1)/Capstone_3/airports.xlsx')\n",
    "df2.head(2)"
   ]
  },
  {
   "cell_type": "code",
   "execution_count": 138,
   "id": "8b3e1817",
   "metadata": {},
   "outputs": [
    {
     "data": {
      "text/html": [
       "<div>\n",
       "<style scoped>\n",
       "    .dataframe tbody tr th:only-of-type {\n",
       "        vertical-align: middle;\n",
       "    }\n",
       "\n",
       "    .dataframe tbody tr th {\n",
       "        vertical-align: top;\n",
       "    }\n",
       "\n",
       "    .dataframe thead th {\n",
       "        text-align: right;\n",
       "    }\n",
       "</style>\n",
       "<table border=\"1\" class=\"dataframe\">\n",
       "  <thead>\n",
       "    <tr style=\"text-align: right;\">\n",
       "      <th></th>\n",
       "      <th>id</th>\n",
       "      <th>airport_ref</th>\n",
       "      <th>airport_ident</th>\n",
       "      <th>length_ft</th>\n",
       "      <th>width_ft</th>\n",
       "      <th>surface</th>\n",
       "      <th>lighted</th>\n",
       "      <th>closed</th>\n",
       "      <th>le_ident</th>\n",
       "      <th>le_latitude_deg</th>\n",
       "      <th>le_longitude_deg</th>\n",
       "      <th>le_elevation_ft</th>\n",
       "      <th>le_heading_degT</th>\n",
       "      <th>le_displaced_threshold_ft</th>\n",
       "      <th>he_ident</th>\n",
       "      <th>he_latitude_deg</th>\n",
       "      <th>he_longitude_deg</th>\n",
       "      <th>he_elevation_ft</th>\n",
       "      <th>he_heading_degT</th>\n",
       "      <th>he_displaced_threshold_ft</th>\n",
       "    </tr>\n",
       "  </thead>\n",
       "  <tbody>\n",
       "    <tr>\n",
       "      <th>0</th>\n",
       "      <td>269408</td>\n",
       "      <td>6523</td>\n",
       "      <td>00A</td>\n",
       "      <td>80.0</td>\n",
       "      <td>80.0</td>\n",
       "      <td>ASPH-G</td>\n",
       "      <td>1</td>\n",
       "      <td>0</td>\n",
       "      <td>H1</td>\n",
       "      <td>NaN</td>\n",
       "      <td>NaN</td>\n",
       "      <td>NaN</td>\n",
       "      <td>NaN</td>\n",
       "      <td>NaN</td>\n",
       "      <td>NaN</td>\n",
       "      <td>NaN</td>\n",
       "      <td>NaN</td>\n",
       "      <td>NaN</td>\n",
       "      <td>NaN</td>\n",
       "      <td>NaN</td>\n",
       "    </tr>\n",
       "    <tr>\n",
       "      <th>1</th>\n",
       "      <td>255155</td>\n",
       "      <td>6524</td>\n",
       "      <td>00AK</td>\n",
       "      <td>2500.0</td>\n",
       "      <td>70.0</td>\n",
       "      <td>GRVL</td>\n",
       "      <td>0</td>\n",
       "      <td>0</td>\n",
       "      <td>N</td>\n",
       "      <td>NaN</td>\n",
       "      <td>NaN</td>\n",
       "      <td>NaN</td>\n",
       "      <td>NaN</td>\n",
       "      <td>NaN</td>\n",
       "      <td>S</td>\n",
       "      <td>NaN</td>\n",
       "      <td>NaN</td>\n",
       "      <td>NaN</td>\n",
       "      <td>NaN</td>\n",
       "      <td>NaN</td>\n",
       "    </tr>\n",
       "  </tbody>\n",
       "</table>\n",
       "</div>"
      ],
      "text/plain": [
       "       id  airport_ref airport_ident  length_ft  width_ft surface  lighted  \\\n",
       "0  269408         6523           00A       80.0      80.0  ASPH-G        1   \n",
       "1  255155         6524          00AK     2500.0      70.0    GRVL        0   \n",
       "\n",
       "   closed le_ident  le_latitude_deg  le_longitude_deg  le_elevation_ft  \\\n",
       "0       0       H1              NaN               NaN              NaN   \n",
       "1       0        N              NaN               NaN              NaN   \n",
       "\n",
       "   le_heading_degT  le_displaced_threshold_ft he_ident  he_latitude_deg  \\\n",
       "0              NaN                        NaN      NaN              NaN   \n",
       "1              NaN                        NaN        S              NaN   \n",
       "\n",
       "   he_longitude_deg  he_elevation_ft  he_heading_degT  \\\n",
       "0               NaN              NaN              NaN   \n",
       "1               NaN              NaN              NaN   \n",
       "\n",
       "   he_displaced_threshold_ft  \n",
       "0                        NaN  \n",
       "1                        NaN  "
      ]
     },
     "execution_count": 138,
     "metadata": {},
     "output_type": "execute_result"
    }
   ],
   "source": [
    "df3=pd.read_excel('Documents/Simplilearn Course/Datasets (1)/Capstone_3/runways.xlsx')\n",
    "df3.head(2)"
   ]
  },
  {
   "cell_type": "code",
   "execution_count": 139,
   "id": "341e2d00",
   "metadata": {},
   "outputs": [
    {
     "name": "stdout",
     "output_type": "stream",
     "text": [
      "(518556, 9)\n",
      "(73805, 18)\n",
      "(43977, 20)\n"
     ]
    }
   ],
   "source": [
    "print(df1.shape)\n",
    "print(df2.shape)\n",
    "print(df3.shape)"
   ]
  },
  {
   "cell_type": "markdown",
   "id": "2ea3e696",
   "metadata": {},
   "source": [
    "#### **checking for null values in all 3 dataframes"
   ]
  },
  {
   "cell_type": "code",
   "execution_count": 140,
   "id": "89e0af6b",
   "metadata": {},
   "outputs": [
    {
     "data": {
      "text/plain": [
       "id                               0\n",
       "airport_ref                      0\n",
       "airport_ident                    0\n",
       "length_ft                      224\n",
       "width_ft                      2889\n",
       "surface                        457\n",
       "lighted                          0\n",
       "closed                           0\n",
       "le_ident                       184\n",
       "le_latitude_deg              28961\n",
       "le_longitude_deg             28977\n",
       "le_elevation_ft              31196\n",
       "le_heading_degT              29353\n",
       "le_displaced_threshold_ft    41094\n",
       "he_ident                      6645\n",
       "he_latitude_deg              29006\n",
       "he_longitude_deg             29004\n",
       "he_elevation_ft              31357\n",
       "he_heading_degT              27549\n",
       "he_displaced_threshold_ft    40801\n",
       "dtype: int64"
      ]
     },
     "execution_count": 140,
     "metadata": {},
     "output_type": "execute_result"
    }
   ],
   "source": [
    "df3.isnull().sum()"
   ]
  },
  {
   "cell_type": "code",
   "execution_count": 141,
   "id": "692788c0",
   "metadata": {},
   "outputs": [
    {
     "data": {
      "text/plain": [
       "id                       0\n",
       "ident                    0\n",
       "type                     0\n",
       "name                     0\n",
       "latitude_deg             0\n",
       "longitude_deg            0\n",
       "elevation_ft         14122\n",
       "continent            35719\n",
       "iso_country            259\n",
       "iso_region               0\n",
       "municipality          5066\n",
       "scheduled_service        0\n",
       "gps_code             30809\n",
       "iata_code            64645\n",
       "local_code           40830\n",
       "home_link            70313\n",
       "wikipedia_link       63100\n",
       "keywords             59854\n",
       "dtype: int64"
      ]
     },
     "execution_count": 141,
     "metadata": {},
     "output_type": "execute_result"
    }
   ],
   "source": [
    "df2.isnull().sum()"
   ]
  },
  {
   "cell_type": "code",
   "execution_count": 142,
   "id": "3307d8bf",
   "metadata": {},
   "outputs": [
    {
     "data": {
      "text/plain": [
       "id             0\n",
       "Airline        0\n",
       "Flight         0\n",
       "AirportFrom    0\n",
       "AirportTo      0\n",
       "DayOfWeek      0\n",
       "Time           0\n",
       "Length         0\n",
       "Delay          0\n",
       "dtype: int64"
      ]
     },
     "execution_count": 142,
     "metadata": {},
     "output_type": "execute_result"
    }
   ],
   "source": [
    "df1.isnull().sum()"
   ]
  },
  {
   "cell_type": "markdown",
   "id": "a5a6ebae",
   "metadata": {},
   "source": [
    "#### ** Renaming column airport_ident into ident to have the columns with the same name in df2 and df3 dataframes "
   ]
  },
  {
   "cell_type": "code",
   "execution_count": 143,
   "id": "4e5ef6e6",
   "metadata": {},
   "outputs": [
    {
     "data": {
      "text/plain": [
       "Index(['id', 'airport_ref', 'ident', 'length_ft', 'width_ft', 'surface',\n",
       "       'lighted', 'closed', 'le_ident', 'le_latitude_deg', 'le_longitude_deg',\n",
       "       'le_elevation_ft', 'le_heading_degT', 'le_displaced_threshold_ft',\n",
       "       'he_ident', 'he_latitude_deg', 'he_longitude_deg', 'he_elevation_ft',\n",
       "       'he_heading_degT', 'he_displaced_threshold_ft'],\n",
       "      dtype='object')"
      ]
     },
     "execution_count": 143,
     "metadata": {},
     "output_type": "execute_result"
    }
   ],
   "source": [
    "df3.rename(columns={'airport_ident':'ident'},inplace=True)\n",
    "df3.columns"
   ]
  },
  {
   "cell_type": "markdown",
   "id": "7ea84e9b",
   "metadata": {},
   "source": [
    "#### ** below command is used for displaying all the columns(if it has more columns)"
   ]
  },
  {
   "cell_type": "code",
   "execution_count": 144,
   "id": "361100e3",
   "metadata": {},
   "outputs": [],
   "source": [
    "pd.set_option('display.max_columns',None)"
   ]
  },
  {
   "cell_type": "markdown",
   "id": "a58ed823",
   "metadata": {},
   "source": [
    "## --Gathering all fields in one dataframe\n",
    "#### **for df1 and df2 using concatenating to combine dataframes\n",
    "#### **ofter that using merge for concat_df and df3 dataframes, ident column is key to combine the dataframes"
   ]
  },
  {
   "cell_type": "code",
   "execution_count": 145,
   "id": "5a321e80",
   "metadata": {},
   "outputs": [
    {
     "data": {
      "text/html": [
       "<div>\n",
       "<style scoped>\n",
       "    .dataframe tbody tr th:only-of-type {\n",
       "        vertical-align: middle;\n",
       "    }\n",
       "\n",
       "    .dataframe tbody tr th {\n",
       "        vertical-align: top;\n",
       "    }\n",
       "\n",
       "    .dataframe thead th {\n",
       "        text-align: right;\n",
       "    }\n",
       "</style>\n",
       "<table border=\"1\" class=\"dataframe\">\n",
       "  <thead>\n",
       "    <tr style=\"text-align: right;\">\n",
       "      <th></th>\n",
       "      <th>id_x</th>\n",
       "      <th>Airline</th>\n",
       "      <th>Flight</th>\n",
       "      <th>AirportFrom</th>\n",
       "      <th>AirportTo</th>\n",
       "      <th>DayOfWeek</th>\n",
       "      <th>Time</th>\n",
       "      <th>Length</th>\n",
       "      <th>Delay</th>\n",
       "      <th>id_x</th>\n",
       "      <th>ident</th>\n",
       "      <th>type</th>\n",
       "      <th>name</th>\n",
       "      <th>latitude_deg</th>\n",
       "      <th>longitude_deg</th>\n",
       "      <th>elevation_ft</th>\n",
       "      <th>continent</th>\n",
       "      <th>iso_country</th>\n",
       "      <th>iso_region</th>\n",
       "      <th>municipality</th>\n",
       "      <th>scheduled_service</th>\n",
       "      <th>gps_code</th>\n",
       "      <th>iata_code</th>\n",
       "      <th>local_code</th>\n",
       "      <th>home_link</th>\n",
       "      <th>wikipedia_link</th>\n",
       "      <th>keywords</th>\n",
       "      <th>id_y</th>\n",
       "      <th>airport_ref</th>\n",
       "      <th>length_ft</th>\n",
       "      <th>width_ft</th>\n",
       "      <th>surface</th>\n",
       "      <th>lighted</th>\n",
       "      <th>closed</th>\n",
       "      <th>le_ident</th>\n",
       "      <th>le_latitude_deg</th>\n",
       "      <th>le_longitude_deg</th>\n",
       "      <th>le_elevation_ft</th>\n",
       "      <th>le_heading_degT</th>\n",
       "      <th>le_displaced_threshold_ft</th>\n",
       "      <th>he_ident</th>\n",
       "      <th>he_latitude_deg</th>\n",
       "      <th>he_longitude_deg</th>\n",
       "      <th>he_elevation_ft</th>\n",
       "      <th>he_heading_degT</th>\n",
       "      <th>he_displaced_threshold_ft</th>\n",
       "    </tr>\n",
       "  </thead>\n",
       "  <tbody>\n",
       "    <tr>\n",
       "      <th>0</th>\n",
       "      <td>1</td>\n",
       "      <td>CO</td>\n",
       "      <td>269</td>\n",
       "      <td>SFO</td>\n",
       "      <td>IAH</td>\n",
       "      <td>3</td>\n",
       "      <td>15</td>\n",
       "      <td>205</td>\n",
       "      <td>1</td>\n",
       "      <td>6523.0</td>\n",
       "      <td>00A</td>\n",
       "      <td>heliport</td>\n",
       "      <td>Total Rf Heliport</td>\n",
       "      <td>40.070801</td>\n",
       "      <td>-74.933601</td>\n",
       "      <td>11.0</td>\n",
       "      <td>NaN</td>\n",
       "      <td>US</td>\n",
       "      <td>US-PA</td>\n",
       "      <td>Bensalem</td>\n",
       "      <td>no</td>\n",
       "      <td>00A</td>\n",
       "      <td>NaN</td>\n",
       "      <td>00A</td>\n",
       "      <td>NaN</td>\n",
       "      <td>NaN</td>\n",
       "      <td>NaN</td>\n",
       "      <td>269408.0</td>\n",
       "      <td>6523.0</td>\n",
       "      <td>80.0</td>\n",
       "      <td>80.0</td>\n",
       "      <td>ASPH-G</td>\n",
       "      <td>1.0</td>\n",
       "      <td>0.0</td>\n",
       "      <td>H1</td>\n",
       "      <td>NaN</td>\n",
       "      <td>NaN</td>\n",
       "      <td>NaN</td>\n",
       "      <td>NaN</td>\n",
       "      <td>NaN</td>\n",
       "      <td>NaN</td>\n",
       "      <td>NaN</td>\n",
       "      <td>NaN</td>\n",
       "      <td>NaN</td>\n",
       "      <td>NaN</td>\n",
       "      <td>NaN</td>\n",
       "    </tr>\n",
       "    <tr>\n",
       "      <th>1</th>\n",
       "      <td>2</td>\n",
       "      <td>US</td>\n",
       "      <td>1558</td>\n",
       "      <td>PHX</td>\n",
       "      <td>CLT</td>\n",
       "      <td>3</td>\n",
       "      <td>15</td>\n",
       "      <td>222</td>\n",
       "      <td>1</td>\n",
       "      <td>323361.0</td>\n",
       "      <td>00AA</td>\n",
       "      <td>small_airport</td>\n",
       "      <td>Aero B Ranch Airport</td>\n",
       "      <td>38.704022</td>\n",
       "      <td>-101.473911</td>\n",
       "      <td>3435.0</td>\n",
       "      <td>NaN</td>\n",
       "      <td>US</td>\n",
       "      <td>US-KS</td>\n",
       "      <td>Leoti</td>\n",
       "      <td>no</td>\n",
       "      <td>00AA</td>\n",
       "      <td>NaN</td>\n",
       "      <td>00AA</td>\n",
       "      <td>NaN</td>\n",
       "      <td>NaN</td>\n",
       "      <td>NaN</td>\n",
       "      <td>NaN</td>\n",
       "      <td>NaN</td>\n",
       "      <td>NaN</td>\n",
       "      <td>NaN</td>\n",
       "      <td>NaN</td>\n",
       "      <td>NaN</td>\n",
       "      <td>NaN</td>\n",
       "      <td>NaN</td>\n",
       "      <td>NaN</td>\n",
       "      <td>NaN</td>\n",
       "      <td>NaN</td>\n",
       "      <td>NaN</td>\n",
       "      <td>NaN</td>\n",
       "      <td>NaN</td>\n",
       "      <td>NaN</td>\n",
       "      <td>NaN</td>\n",
       "      <td>NaN</td>\n",
       "      <td>NaN</td>\n",
       "      <td>NaN</td>\n",
       "    </tr>\n",
       "    <tr>\n",
       "      <th>2</th>\n",
       "      <td>3</td>\n",
       "      <td>AA</td>\n",
       "      <td>2400</td>\n",
       "      <td>LAX</td>\n",
       "      <td>DFW</td>\n",
       "      <td>3</td>\n",
       "      <td>20</td>\n",
       "      <td>165</td>\n",
       "      <td>1</td>\n",
       "      <td>6524.0</td>\n",
       "      <td>00AK</td>\n",
       "      <td>small_airport</td>\n",
       "      <td>Lowell Field</td>\n",
       "      <td>59.947733</td>\n",
       "      <td>-151.692524</td>\n",
       "      <td>450.0</td>\n",
       "      <td>NaN</td>\n",
       "      <td>US</td>\n",
       "      <td>US-AK</td>\n",
       "      <td>Anchor Point</td>\n",
       "      <td>no</td>\n",
       "      <td>00AK</td>\n",
       "      <td>NaN</td>\n",
       "      <td>00AK</td>\n",
       "      <td>NaN</td>\n",
       "      <td>NaN</td>\n",
       "      <td>NaN</td>\n",
       "      <td>255155.0</td>\n",
       "      <td>6524.0</td>\n",
       "      <td>2500.0</td>\n",
       "      <td>70.0</td>\n",
       "      <td>GRVL</td>\n",
       "      <td>0.0</td>\n",
       "      <td>0.0</td>\n",
       "      <td>N</td>\n",
       "      <td>NaN</td>\n",
       "      <td>NaN</td>\n",
       "      <td>NaN</td>\n",
       "      <td>NaN</td>\n",
       "      <td>NaN</td>\n",
       "      <td>S</td>\n",
       "      <td>NaN</td>\n",
       "      <td>NaN</td>\n",
       "      <td>NaN</td>\n",
       "      <td>NaN</td>\n",
       "      <td>NaN</td>\n",
       "    </tr>\n",
       "    <tr>\n",
       "      <th>3</th>\n",
       "      <td>4</td>\n",
       "      <td>AA</td>\n",
       "      <td>2466</td>\n",
       "      <td>SFO</td>\n",
       "      <td>DFW</td>\n",
       "      <td>3</td>\n",
       "      <td>20</td>\n",
       "      <td>195</td>\n",
       "      <td>1</td>\n",
       "      <td>6525.0</td>\n",
       "      <td>00AL</td>\n",
       "      <td>small_airport</td>\n",
       "      <td>Epps Airpark</td>\n",
       "      <td>34.864799</td>\n",
       "      <td>-86.770302</td>\n",
       "      <td>820.0</td>\n",
       "      <td>NaN</td>\n",
       "      <td>US</td>\n",
       "      <td>US-AL</td>\n",
       "      <td>Harvest</td>\n",
       "      <td>no</td>\n",
       "      <td>00AL</td>\n",
       "      <td>NaN</td>\n",
       "      <td>00AL</td>\n",
       "      <td>NaN</td>\n",
       "      <td>NaN</td>\n",
       "      <td>NaN</td>\n",
       "      <td>254165.0</td>\n",
       "      <td>6525.0</td>\n",
       "      <td>2300.0</td>\n",
       "      <td>200.0</td>\n",
       "      <td>TURF</td>\n",
       "      <td>0.0</td>\n",
       "      <td>0.0</td>\n",
       "      <td>1</td>\n",
       "      <td>NaN</td>\n",
       "      <td>NaN</td>\n",
       "      <td>NaN</td>\n",
       "      <td>NaN</td>\n",
       "      <td>NaN</td>\n",
       "      <td>19</td>\n",
       "      <td>NaN</td>\n",
       "      <td>NaN</td>\n",
       "      <td>NaN</td>\n",
       "      <td>NaN</td>\n",
       "      <td>NaN</td>\n",
       "    </tr>\n",
       "    <tr>\n",
       "      <th>4</th>\n",
       "      <td>5</td>\n",
       "      <td>AS</td>\n",
       "      <td>108</td>\n",
       "      <td>ANC</td>\n",
       "      <td>SEA</td>\n",
       "      <td>3</td>\n",
       "      <td>30</td>\n",
       "      <td>202</td>\n",
       "      <td>0</td>\n",
       "      <td>6526.0</td>\n",
       "      <td>00AR</td>\n",
       "      <td>closed</td>\n",
       "      <td>Newport Hospital &amp; Clinic Heliport</td>\n",
       "      <td>35.608700</td>\n",
       "      <td>-91.254898</td>\n",
       "      <td>237.0</td>\n",
       "      <td>NaN</td>\n",
       "      <td>US</td>\n",
       "      <td>US-AR</td>\n",
       "      <td>Newport</td>\n",
       "      <td>no</td>\n",
       "      <td>NaN</td>\n",
       "      <td>NaN</td>\n",
       "      <td>NaN</td>\n",
       "      <td>NaN</td>\n",
       "      <td>NaN</td>\n",
       "      <td>00AR</td>\n",
       "      <td>270932.0</td>\n",
       "      <td>6526.0</td>\n",
       "      <td>40.0</td>\n",
       "      <td>40.0</td>\n",
       "      <td>GRASS</td>\n",
       "      <td>0.0</td>\n",
       "      <td>0.0</td>\n",
       "      <td>H1</td>\n",
       "      <td>NaN</td>\n",
       "      <td>NaN</td>\n",
       "      <td>NaN</td>\n",
       "      <td>NaN</td>\n",
       "      <td>NaN</td>\n",
       "      <td>H1</td>\n",
       "      <td>NaN</td>\n",
       "      <td>NaN</td>\n",
       "      <td>NaN</td>\n",
       "      <td>NaN</td>\n",
       "      <td>NaN</td>\n",
       "    </tr>\n",
       "  </tbody>\n",
       "</table>\n",
       "</div>"
      ],
      "text/plain": [
       "   id_x Airline  Flight AirportFrom AirportTo  DayOfWeek  Time  Length  Delay  \\\n",
       "0     1      CO     269         SFO       IAH          3    15     205      1   \n",
       "1     2      US    1558         PHX       CLT          3    15     222      1   \n",
       "2     3      AA    2400         LAX       DFW          3    20     165      1   \n",
       "3     4      AA    2466         SFO       DFW          3    20     195      1   \n",
       "4     5      AS     108         ANC       SEA          3    30     202      0   \n",
       "\n",
       "       id_x ident           type                                name  \\\n",
       "0    6523.0   00A       heliport                   Total Rf Heliport   \n",
       "1  323361.0  00AA  small_airport                Aero B Ranch Airport   \n",
       "2    6524.0  00AK  small_airport                        Lowell Field   \n",
       "3    6525.0  00AL  small_airport                        Epps Airpark   \n",
       "4    6526.0  00AR         closed  Newport Hospital & Clinic Heliport   \n",
       "\n",
       "   latitude_deg  longitude_deg  elevation_ft continent iso_country iso_region  \\\n",
       "0     40.070801     -74.933601          11.0       NaN          US      US-PA   \n",
       "1     38.704022    -101.473911        3435.0       NaN          US      US-KS   \n",
       "2     59.947733    -151.692524         450.0       NaN          US      US-AK   \n",
       "3     34.864799     -86.770302         820.0       NaN          US      US-AL   \n",
       "4     35.608700     -91.254898         237.0       NaN          US      US-AR   \n",
       "\n",
       "   municipality scheduled_service gps_code iata_code local_code home_link  \\\n",
       "0      Bensalem                no      00A       NaN        00A       NaN   \n",
       "1         Leoti                no     00AA       NaN       00AA       NaN   \n",
       "2  Anchor Point                no     00AK       NaN       00AK       NaN   \n",
       "3       Harvest                no     00AL       NaN       00AL       NaN   \n",
       "4       Newport                no      NaN       NaN        NaN       NaN   \n",
       "\n",
       "  wikipedia_link keywords      id_y  airport_ref  length_ft  width_ft surface  \\\n",
       "0            NaN      NaN  269408.0       6523.0       80.0      80.0  ASPH-G   \n",
       "1            NaN      NaN       NaN          NaN        NaN       NaN     NaN   \n",
       "2            NaN      NaN  255155.0       6524.0     2500.0      70.0    GRVL   \n",
       "3            NaN      NaN  254165.0       6525.0     2300.0     200.0    TURF   \n",
       "4            NaN     00AR  270932.0       6526.0       40.0      40.0   GRASS   \n",
       "\n",
       "   lighted  closed le_ident  le_latitude_deg  le_longitude_deg  \\\n",
       "0      1.0     0.0       H1              NaN               NaN   \n",
       "1      NaN     NaN      NaN              NaN               NaN   \n",
       "2      0.0     0.0        N              NaN               NaN   \n",
       "3      0.0     0.0        1              NaN               NaN   \n",
       "4      0.0     0.0       H1              NaN               NaN   \n",
       "\n",
       "   le_elevation_ft  le_heading_degT  le_displaced_threshold_ft he_ident  \\\n",
       "0              NaN              NaN                        NaN      NaN   \n",
       "1              NaN              NaN                        NaN      NaN   \n",
       "2              NaN              NaN                        NaN        S   \n",
       "3              NaN              NaN                        NaN       19   \n",
       "4              NaN              NaN                        NaN       H1   \n",
       "\n",
       "   he_latitude_deg  he_longitude_deg  he_elevation_ft  he_heading_degT  \\\n",
       "0              NaN               NaN              NaN              NaN   \n",
       "1              NaN               NaN              NaN              NaN   \n",
       "2              NaN               NaN              NaN              NaN   \n",
       "3              NaN               NaN              NaN              NaN   \n",
       "4              NaN               NaN              NaN              NaN   \n",
       "\n",
       "   he_displaced_threshold_ft  \n",
       "0                        NaN  \n",
       "1                        NaN  \n",
       "2                        NaN  \n",
       "3                        NaN  \n",
       "4                        NaN  "
      ]
     },
     "execution_count": 145,
     "metadata": {},
     "output_type": "execute_result"
    }
   ],
   "source": [
    "concat_df=pd.concat([df1,df2],axis=1)\n",
    "merged_df=pd.merge(concat_df,df3,how='outer',on='ident')\n",
    "merged_df.head()"
   ]
  },
  {
   "cell_type": "code",
   "execution_count": 146,
   "id": "db0d3526",
   "metadata": {},
   "outputs": [
    {
     "data": {
      "text/plain": [
       "(525268, 46)"
      ]
     },
     "execution_count": 146,
     "metadata": {},
     "output_type": "execute_result"
    }
   ],
   "source": [
    "merged_df.shape"
   ]
  },
  {
   "cell_type": "code",
   "execution_count": 147,
   "id": "8bee9ddf",
   "metadata": {},
   "outputs": [
    {
     "data": {
      "text/plain": [
       "17887502"
      ]
     },
     "execution_count": 147,
     "metadata": {},
     "output_type": "execute_result"
    }
   ],
   "source": [
    "merged_df.isnull().sum().sum()"
   ]
  },
  {
   "cell_type": "code",
   "execution_count": 148,
   "id": "e72e0425",
   "metadata": {},
   "outputs": [
    {
     "data": {
      "text/plain": [
       "Index(['id_x', 'Airline', 'Flight', 'AirportFrom', 'AirportTo', 'DayOfWeek',\n",
       "       'Time', 'Length', 'Delay', 'id_x', 'ident', 'type', 'name',\n",
       "       'latitude_deg', 'longitude_deg', 'elevation_ft', 'continent',\n",
       "       'iso_country', 'iso_region', 'municipality', 'scheduled_service',\n",
       "       'gps_code', 'iata_code', 'local_code', 'home_link', 'wikipedia_link',\n",
       "       'keywords', 'id_y', 'airport_ref', 'length_ft', 'width_ft', 'surface',\n",
       "       'lighted', 'closed', 'le_ident', 'le_latitude_deg', 'le_longitude_deg',\n",
       "       'le_elevation_ft', 'le_heading_degT', 'le_displaced_threshold_ft',\n",
       "       'he_ident', 'he_latitude_deg', 'he_longitude_deg', 'he_elevation_ft',\n",
       "       'he_heading_degT', 'he_displaced_threshold_ft'],\n",
       "      dtype='object')"
      ]
     },
     "execution_count": 148,
     "metadata": {},
     "output_type": "execute_result"
    }
   ],
   "source": [
    "merged_df.columns"
   ]
  },
  {
   "cell_type": "markdown",
   "id": "29fdf0d9",
   "metadata": {},
   "source": [
    "#### ** Deleting unwanted columns from the merged dataframe"
   ]
  },
  {
   "cell_type": "code",
   "execution_count": 149,
   "id": "62a686fa",
   "metadata": {},
   "outputs": [],
   "source": [
    "merged_df.drop(columns=['id_x','name','latitude_deg','longitude_deg','continent','iso_country', 'iso_region', 'municipality', \n",
    "        'scheduled_service','gps_code','local_code', 'home_link', 'wikipedia_link','keywords', 'id_y','lighted',\n",
    "        'closed','le_ident', 'le_latitude_deg', 'le_longitude_deg',\n",
    "       'le_elevation_ft', 'le_heading_degT', 'le_displaced_threshold_ft',\n",
    "       'he_ident', 'he_latitude_deg', 'he_longitude_deg', 'he_elevation_ft',\n",
    "       'he_heading_degT', 'he_displaced_threshold_ft'],inplace=True)"
   ]
  },
  {
   "cell_type": "code",
   "execution_count": 150,
   "id": "d161aa87",
   "metadata": {},
   "outputs": [
    {
     "data": {
      "text/html": [
       "<div>\n",
       "<style scoped>\n",
       "    .dataframe tbody tr th:only-of-type {\n",
       "        vertical-align: middle;\n",
       "    }\n",
       "\n",
       "    .dataframe tbody tr th {\n",
       "        vertical-align: top;\n",
       "    }\n",
       "\n",
       "    .dataframe thead th {\n",
       "        text-align: right;\n",
       "    }\n",
       "</style>\n",
       "<table border=\"1\" class=\"dataframe\">\n",
       "  <thead>\n",
       "    <tr style=\"text-align: right;\">\n",
       "      <th></th>\n",
       "      <th>Airline</th>\n",
       "      <th>Flight</th>\n",
       "      <th>AirportFrom</th>\n",
       "      <th>AirportTo</th>\n",
       "      <th>DayOfWeek</th>\n",
       "      <th>Time</th>\n",
       "      <th>Length</th>\n",
       "      <th>Delay</th>\n",
       "      <th>ident</th>\n",
       "      <th>type</th>\n",
       "      <th>elevation_ft</th>\n",
       "      <th>iata_code</th>\n",
       "      <th>airport_ref</th>\n",
       "      <th>length_ft</th>\n",
       "      <th>width_ft</th>\n",
       "      <th>surface</th>\n",
       "    </tr>\n",
       "  </thead>\n",
       "  <tbody>\n",
       "    <tr>\n",
       "      <th>0</th>\n",
       "      <td>CO</td>\n",
       "      <td>269</td>\n",
       "      <td>SFO</td>\n",
       "      <td>IAH</td>\n",
       "      <td>3</td>\n",
       "      <td>15</td>\n",
       "      <td>205</td>\n",
       "      <td>1</td>\n",
       "      <td>00A</td>\n",
       "      <td>heliport</td>\n",
       "      <td>11.0</td>\n",
       "      <td>NaN</td>\n",
       "      <td>6523.0</td>\n",
       "      <td>80.0</td>\n",
       "      <td>80.0</td>\n",
       "      <td>ASPH-G</td>\n",
       "    </tr>\n",
       "    <tr>\n",
       "      <th>1</th>\n",
       "      <td>US</td>\n",
       "      <td>1558</td>\n",
       "      <td>PHX</td>\n",
       "      <td>CLT</td>\n",
       "      <td>3</td>\n",
       "      <td>15</td>\n",
       "      <td>222</td>\n",
       "      <td>1</td>\n",
       "      <td>00AA</td>\n",
       "      <td>small_airport</td>\n",
       "      <td>3435.0</td>\n",
       "      <td>NaN</td>\n",
       "      <td>NaN</td>\n",
       "      <td>NaN</td>\n",
       "      <td>NaN</td>\n",
       "      <td>NaN</td>\n",
       "    </tr>\n",
       "  </tbody>\n",
       "</table>\n",
       "</div>"
      ],
      "text/plain": [
       "  Airline  Flight AirportFrom AirportTo  DayOfWeek  Time  Length  Delay ident  \\\n",
       "0      CO     269         SFO       IAH          3    15     205      1   00A   \n",
       "1      US    1558         PHX       CLT          3    15     222      1  00AA   \n",
       "\n",
       "            type  elevation_ft iata_code  airport_ref  length_ft  width_ft  \\\n",
       "0       heliport          11.0       NaN       6523.0       80.0      80.0   \n",
       "1  small_airport        3435.0       NaN          NaN        NaN       NaN   \n",
       "\n",
       "  surface  \n",
       "0  ASPH-G  \n",
       "1     NaN  "
      ]
     },
     "execution_count": 150,
     "metadata": {},
     "output_type": "execute_result"
    }
   ],
   "source": [
    "merged_df.head(2)"
   ]
  },
  {
   "cell_type": "code",
   "execution_count": 151,
   "id": "c9fc94ed",
   "metadata": {},
   "outputs": [
    {
     "data": {
      "text/plain": [
       "(525268, 16)"
      ]
     },
     "execution_count": 151,
     "metadata": {},
     "output_type": "execute_result"
    }
   ],
   "source": [
    "merged_df.shape"
   ]
  },
  {
   "cell_type": "code",
   "execution_count": 152,
   "id": "f5187ae0",
   "metadata": {},
   "outputs": [
    {
     "data": {
      "text/plain": [
       "Airline          object\n",
       "Flight            int64\n",
       "AirportFrom      object\n",
       "AirportTo        object\n",
       "DayOfWeek         int64\n",
       "Time              int64\n",
       "Length            int64\n",
       "Delay             int64\n",
       "ident            object\n",
       "type             object\n",
       "elevation_ft    float64\n",
       "iata_code        object\n",
       "airport_ref     float64\n",
       "length_ft       float64\n",
       "width_ft        float64\n",
       "surface          object\n",
       "dtype: object"
      ]
     },
     "execution_count": 152,
     "metadata": {},
     "output_type": "execute_result"
    }
   ],
   "source": [
    "merged_df.dtypes"
   ]
  },
  {
   "cell_type": "code",
   "execution_count": 153,
   "id": "251f7508",
   "metadata": {},
   "outputs": [
    {
     "data": {
      "text/plain": [
       "Airline              0\n",
       "Flight               0\n",
       "AirportFrom          0\n",
       "AirportTo            0\n",
       "DayOfWeek            0\n",
       "Time                 0\n",
       "Length               0\n",
       "Delay                0\n",
       "ident           444751\n",
       "type            444751\n",
       "elevation_ft    459138\n",
       "iata_code       513068\n",
       "airport_ref     481291\n",
       "length_ft       481515\n",
       "width_ft        484180\n",
       "surface         481748\n",
       "dtype: int64"
      ]
     },
     "execution_count": 153,
     "metadata": {},
     "output_type": "execute_result"
    }
   ],
   "source": [
    "merged_df.isnull().sum()"
   ]
  },
  {
   "cell_type": "markdown",
   "id": "d956264d",
   "metadata": {},
   "source": [
    "## --When it comes to on-time arrivals, different airlines perform differently based on the amount of experience they have. The major airlines in this field include US Airways Express (founded in 1967). Pull such information specific to various airlines from the Wikipedia page link given below.\n",
    "https://en.wikipedia.org/wiki/List_of_airlines_of_the_United_States."
   ]
  },
  {
   "cell_type": "code",
   "execution_count": 154,
   "id": "826e2fbb",
   "metadata": {},
   "outputs": [],
   "source": [
    "test_df=pd.read_html('https://en.wikipedia.org/wiki/List_of_airlines_of_the_United_States')"
   ]
  },
  {
   "cell_type": "code",
   "execution_count": 155,
   "id": "744db653",
   "metadata": {},
   "outputs": [
    {
     "data": {
      "text/plain": [
       "21"
      ]
     },
     "execution_count": 155,
     "metadata": {},
     "output_type": "execute_result"
    }
   ],
   "source": [
    "len(test_df)"
   ]
  },
  {
   "cell_type": "markdown",
   "id": "dbe723e7",
   "metadata": {},
   "source": [
    "#### ** Extracting List of airlines of the United States from above test_df"
   ]
  },
  {
   "cell_type": "code",
   "execution_count": 156,
   "id": "a9bb2ead",
   "metadata": {},
   "outputs": [
    {
     "data": {
      "text/html": [
       "<div>\n",
       "<style scoped>\n",
       "    .dataframe tbody tr th:only-of-type {\n",
       "        vertical-align: middle;\n",
       "    }\n",
       "\n",
       "    .dataframe tbody tr th {\n",
       "        vertical-align: top;\n",
       "    }\n",
       "\n",
       "    .dataframe thead th {\n",
       "        text-align: right;\n",
       "    }\n",
       "</style>\n",
       "<table border=\"1\" class=\"dataframe\">\n",
       "  <thead>\n",
       "    <tr style=\"text-align: right;\">\n",
       "      <th></th>\n",
       "      <th>Airline</th>\n",
       "      <th>Image</th>\n",
       "      <th>IATA</th>\n",
       "      <th>ICAO</th>\n",
       "      <th>Callsign</th>\n",
       "      <th>Primary hubs, secondary hubs</th>\n",
       "      <th>Founded</th>\n",
       "      <th>Notes</th>\n",
       "    </tr>\n",
       "  </thead>\n",
       "  <tbody>\n",
       "    <tr>\n",
       "      <th>0</th>\n",
       "      <td>Alaska Airlines</td>\n",
       "      <td>NaN</td>\n",
       "      <td>AS</td>\n",
       "      <td>ASA</td>\n",
       "      <td>ALASKA</td>\n",
       "      <td>Seattle/TacomaAnchoragePortland (OR)San Franci...</td>\n",
       "      <td>1932</td>\n",
       "      <td>Founded as McGee Airways and commenced operati...</td>\n",
       "    </tr>\n",
       "    <tr>\n",
       "      <th>1</th>\n",
       "      <td>Allegiant Air</td>\n",
       "      <td>NaN</td>\n",
       "      <td>G4</td>\n",
       "      <td>AAY</td>\n",
       "      <td>ALLEGIANT</td>\n",
       "      <td>Las VegasCincinnatiDestin/Ft. Walton BeachIndi...</td>\n",
       "      <td>1997</td>\n",
       "      <td>Founded as WestJet Express and began operation...</td>\n",
       "    </tr>\n",
       "    <tr>\n",
       "      <th>2</th>\n",
       "      <td>American Airlines</td>\n",
       "      <td>NaN</td>\n",
       "      <td>AA</td>\n",
       "      <td>AAL</td>\n",
       "      <td>AMERICAN</td>\n",
       "      <td>Dallas/Fort WorthCharlotteChicago–O'HareMiamiP...</td>\n",
       "      <td>1926</td>\n",
       "      <td>Founded as American Airways and commenced oper...</td>\n",
       "    </tr>\n",
       "    <tr>\n",
       "      <th>3</th>\n",
       "      <td>Avelo Airlines</td>\n",
       "      <td>NaN</td>\n",
       "      <td>XP</td>\n",
       "      <td>VXP</td>\n",
       "      <td>AVELO</td>\n",
       "      <td>BurbankNew HavenOrlandoRaleigh/DurhamWilmingto...</td>\n",
       "      <td>1987</td>\n",
       "      <td>First did business as Casino Express Airlines ...</td>\n",
       "    </tr>\n",
       "    <tr>\n",
       "      <th>4</th>\n",
       "      <td>Breeze Airways</td>\n",
       "      <td>NaN</td>\n",
       "      <td>MX</td>\n",
       "      <td>MXY</td>\n",
       "      <td>MOXY</td>\n",
       "      <td>Charleston (SC)HartfordNew OrleansNorfolkProvi...</td>\n",
       "      <td>2018</td>\n",
       "      <td>Founded as Moxy Airways but was renamed due to...</td>\n",
       "    </tr>\n",
       "  </tbody>\n",
       "</table>\n",
       "</div>"
      ],
      "text/plain": [
       "             Airline  Image IATA ICAO   Callsign  \\\n",
       "0    Alaska Airlines    NaN   AS  ASA     ALASKA   \n",
       "1      Allegiant Air    NaN   G4  AAY  ALLEGIANT   \n",
       "2  American Airlines    NaN   AA  AAL   AMERICAN   \n",
       "3     Avelo Airlines    NaN   XP  VXP      AVELO   \n",
       "4     Breeze Airways    NaN   MX  MXY       MOXY   \n",
       "\n",
       "                        Primary hubs, secondary hubs  Founded  \\\n",
       "0  Seattle/TacomaAnchoragePortland (OR)San Franci...     1932   \n",
       "1  Las VegasCincinnatiDestin/Ft. Walton BeachIndi...     1997   \n",
       "2  Dallas/Fort WorthCharlotteChicago–O'HareMiamiP...     1926   \n",
       "3  BurbankNew HavenOrlandoRaleigh/DurhamWilmingto...     1987   \n",
       "4  Charleston (SC)HartfordNew OrleansNorfolkProvi...     2018   \n",
       "\n",
       "                                               Notes  \n",
       "0  Founded as McGee Airways and commenced operati...  \n",
       "1  Founded as WestJet Express and began operation...  \n",
       "2  Founded as American Airways and commenced oper...  \n",
       "3  First did business as Casino Express Airlines ...  \n",
       "4  Founded as Moxy Airways but was renamed due to...  "
      ]
     },
     "execution_count": 156,
     "metadata": {},
     "output_type": "execute_result"
    }
   ],
   "source": [
    "us_air_lines=test_df[0]\n",
    "us_air_lines.head()"
   ]
  },
  {
   "cell_type": "code",
   "execution_count": 157,
   "id": "3f718d04",
   "metadata": {},
   "outputs": [
    {
     "data": {
      "text/plain": [
       "(14, 8)"
      ]
     },
     "execution_count": 157,
     "metadata": {},
     "output_type": "execute_result"
    }
   ],
   "source": [
    "us_air_lines.shape"
   ]
  },
  {
   "cell_type": "code",
   "execution_count": 158,
   "id": "8a437529",
   "metadata": {},
   "outputs": [
    {
     "data": {
      "text/plain": [
       "Airline                          0\n",
       "Image                           14\n",
       "IATA                             0\n",
       "ICAO                             0\n",
       "Callsign                         0\n",
       "Primary hubs, secondary hubs     0\n",
       "Founded                          0\n",
       "Notes                            2\n",
       "dtype: int64"
      ]
     },
     "execution_count": 158,
     "metadata": {},
     "output_type": "execute_result"
    }
   ],
   "source": [
    "us_air_lines.isnull().sum()"
   ]
  },
  {
   "cell_type": "markdown",
   "id": "436ebb13",
   "metadata": {},
   "source": [
    "## --The total passenger traffic may also contribute to flight delays. The term hub refers to busy commercial airports. Large hubs are airports that account for at least 1 percentof the total passenger enplanements in the United States. Airports that account for 0.25 percent to 1 percent of total passenger enplanements are considered medium hubs. Pull passenger traffic data from the Wikipedia page given below .\n",
    "https://en.wikipedia.org/wiki/List_of_the_busiest_airports_in_the_United_States"
   ]
  },
  {
   "cell_type": "code",
   "execution_count": 159,
   "id": "a5561a8d",
   "metadata": {},
   "outputs": [],
   "source": [
    "test_df1=pd.read_html('https://en.wikipedia.org/wiki/List_of_the_busiest_airports_in_the_United_States')"
   ]
  },
  {
   "cell_type": "code",
   "execution_count": 160,
   "id": "e779c627",
   "metadata": {},
   "outputs": [
    {
     "data": {
      "text/plain": [
       "10"
      ]
     },
     "execution_count": 160,
     "metadata": {},
     "output_type": "execute_result"
    }
   ],
   "source": [
    "len(test_df1)"
   ]
  },
  {
   "cell_type": "markdown",
   "id": "edce1395",
   "metadata": {},
   "source": [
    "#### **Extracting Large hubs airports data from the given wikipedia"
   ]
  },
  {
   "cell_type": "code",
   "execution_count": 161,
   "id": "35bea9d3",
   "metadata": {},
   "outputs": [
    {
     "data": {
      "text/html": [
       "<div>\n",
       "<style scoped>\n",
       "    .dataframe tbody tr th:only-of-type {\n",
       "        vertical-align: middle;\n",
       "    }\n",
       "\n",
       "    .dataframe tbody tr th {\n",
       "        vertical-align: top;\n",
       "    }\n",
       "\n",
       "    .dataframe thead th {\n",
       "        text-align: right;\n",
       "    }\n",
       "</style>\n",
       "<table border=\"1\" class=\"dataframe\">\n",
       "  <thead>\n",
       "    <tr style=\"text-align: right;\">\n",
       "      <th></th>\n",
       "      <th>Rank(2023)</th>\n",
       "      <th>Airports (large)</th>\n",
       "      <th>IATACode</th>\n",
       "      <th>Major cities served</th>\n",
       "      <th>Metro area</th>\n",
       "      <th>State</th>\n",
       "      <th>2023[2]</th>\n",
       "      <th>2022[3]</th>\n",
       "      <th>2021[4]</th>\n",
       "      <th>2020[5]</th>\n",
       "      <th>2019[6]</th>\n",
       "      <th>2018[7]</th>\n",
       "      <th>2017[8]</th>\n",
       "      <th>2016[9]</th>\n",
       "      <th>2015[10]</th>\n",
       "      <th>2014[11]</th>\n",
       "    </tr>\n",
       "  </thead>\n",
       "  <tbody>\n",
       "    <tr>\n",
       "      <th>0</th>\n",
       "      <td>1</td>\n",
       "      <td>Hartsfield–Jackson Atlanta International Airport</td>\n",
       "      <td>ATL</td>\n",
       "      <td>Atlanta</td>\n",
       "      <td>Atlanta</td>\n",
       "      <td>GA</td>\n",
       "      <td>50950023</td>\n",
       "      <td>45396001</td>\n",
       "      <td>36676010</td>\n",
       "      <td>20559866</td>\n",
       "      <td>53505795</td>\n",
       "      <td>51865797</td>\n",
       "      <td>50251964</td>\n",
       "      <td>50501858</td>\n",
       "      <td>49340732</td>\n",
       "      <td>46604273</td>\n",
       "    </tr>\n",
       "    <tr>\n",
       "      <th>1</th>\n",
       "      <td>2</td>\n",
       "      <td>Dallas/Fort Worth International Airport</td>\n",
       "      <td>DFW</td>\n",
       "      <td>Dallas and Fort Worth</td>\n",
       "      <td>Dallas–Fort Worth</td>\n",
       "      <td>TX</td>\n",
       "      <td>39246196</td>\n",
       "      <td>35345138</td>\n",
       "      <td>30005266</td>\n",
       "      <td>18593421</td>\n",
       "      <td>35778573</td>\n",
       "      <td>32821799</td>\n",
       "      <td>31816933</td>\n",
       "      <td>31283579</td>\n",
       "      <td>31589839</td>\n",
       "      <td>30804567</td>\n",
       "    </tr>\n",
       "  </tbody>\n",
       "</table>\n",
       "</div>"
      ],
      "text/plain": [
       "   Rank(2023)                                  Airports (large) IATACode  \\\n",
       "0           1  Hartsfield–Jackson Atlanta International Airport      ATL   \n",
       "1           2           Dallas/Fort Worth International Airport      DFW   \n",
       "\n",
       "     Major cities served         Metro area State   2023[2]   2022[3]  \\\n",
       "0                Atlanta            Atlanta    GA  50950023  45396001   \n",
       "1  Dallas and Fort Worth  Dallas–Fort Worth    TX  39246196  35345138   \n",
       "\n",
       "    2021[4]   2020[5]   2019[6]   2018[7]   2017[8]   2016[9]  2015[10]  \\\n",
       "0  36676010  20559866  53505795  51865797  50251964  50501858  49340732   \n",
       "1  30005266  18593421  35778573  32821799  31816933  31283579  31589839   \n",
       "\n",
       "   2014[11]  \n",
       "0  46604273  \n",
       "1  30804567  "
      ]
     },
     "execution_count": 161,
     "metadata": {},
     "output_type": "execute_result"
    }
   ],
   "source": [
    "large_hub_df1=test_df1[1]\n",
    "large_hub_df1.head(2)"
   ]
  },
  {
   "cell_type": "code",
   "execution_count": 162,
   "id": "1aad3bd0",
   "metadata": {},
   "outputs": [
    {
     "data": {
      "text/plain": [
       "Index(['Rank(2023)', 'Airports (large)', 'IATACode', 'Major cities served',\n",
       "       'Metro area', 'State', '2023[2]', '2022[3]', '2021[4]', '2020[5]',\n",
       "       '2019[6]', '2018[7]', '2017[8]', '2016[9]', '2015[10]', '2014[11]'],\n",
       "      dtype='object')"
      ]
     },
     "execution_count": 162,
     "metadata": {},
     "output_type": "execute_result"
    }
   ],
   "source": [
    "large_hub_df1.columns"
   ]
  },
  {
   "cell_type": "code",
   "execution_count": 163,
   "id": "114246ed",
   "metadata": {},
   "outputs": [
    {
     "data": {
      "text/plain": [
       "31"
      ]
     },
     "execution_count": 163,
     "metadata": {},
     "output_type": "execute_result"
    }
   ],
   "source": [
    "len(large_hub_df1)"
   ]
  },
  {
   "cell_type": "code",
   "execution_count": 164,
   "id": "a18749d8",
   "metadata": {},
   "outputs": [],
   "source": [
    "large_hub_df1.drop(columns=['2023[2]','2022[3]', '2021[4]', '2020[5]', '2019[6]','2018[7]', '2017[8]', '2016[9]', '2015[10]','2014[11]', \n",
    "                            'Rank(2023)','Major cities served','Metro area','State'],inplace=True)"
   ]
  },
  {
   "cell_type": "code",
   "execution_count": 165,
   "id": "6d997058",
   "metadata": {},
   "outputs": [
    {
     "data": {
      "text/plain": [
       "Airports (large)    0\n",
       "IATACode            0\n",
       "dtype: int64"
      ]
     },
     "execution_count": 165,
     "metadata": {},
     "output_type": "execute_result"
    }
   ],
   "source": [
    "large_hub_df1.isnull().sum()"
   ]
  },
  {
   "cell_type": "markdown",
   "id": "52108a24",
   "metadata": {},
   "source": [
    "#### **Extracting Medium hubs airports data from the given wikipedia"
   ]
  },
  {
   "cell_type": "code",
   "execution_count": 166,
   "id": "aea59e79",
   "metadata": {},
   "outputs": [
    {
     "data": {
      "text/html": [
       "<div>\n",
       "<style scoped>\n",
       "    .dataframe tbody tr th:only-of-type {\n",
       "        vertical-align: middle;\n",
       "    }\n",
       "\n",
       "    .dataframe tbody tr th {\n",
       "        vertical-align: top;\n",
       "    }\n",
       "\n",
       "    .dataframe thead th {\n",
       "        text-align: right;\n",
       "    }\n",
       "</style>\n",
       "<table border=\"1\" class=\"dataframe\">\n",
       "  <thead>\n",
       "    <tr style=\"text-align: right;\">\n",
       "      <th></th>\n",
       "      <th>Rank(2023)</th>\n",
       "      <th>Airports (medium hubs)</th>\n",
       "      <th>IATACode</th>\n",
       "      <th>City served</th>\n",
       "      <th>Metro Area</th>\n",
       "      <th>State</th>\n",
       "      <th>2023[2]</th>\n",
       "      <th>2022[3]</th>\n",
       "      <th>2021[4]</th>\n",
       "      <th>2020[5]</th>\n",
       "      <th>2019[6]</th>\n",
       "      <th>2018[7]</th>\n",
       "      <th>2017[8]</th>\n",
       "      <th>2016[9]</th>\n",
       "      <th>2015[10]</th>\n",
       "      <th>2014[11]</th>\n",
       "    </tr>\n",
       "  </thead>\n",
       "  <tbody>\n",
       "    <tr>\n",
       "      <th>0</th>\n",
       "      <td>32</td>\n",
       "      <td>Dallas Love Field</td>\n",
       "      <td>DAL</td>\n",
       "      <td>Dallas</td>\n",
       "      <td>Dallas–Fort Worth</td>\n",
       "      <td>TX</td>\n",
       "      <td>8559009</td>\n",
       "      <td>7819129</td>\n",
       "      <td>6487563</td>\n",
       "      <td>3669930</td>\n",
       "      <td>8408457</td>\n",
       "      <td>8134848</td>\n",
       "      <td>7876769</td>\n",
       "      <td>7554596</td>\n",
       "      <td>7040921</td>\n",
       "      <td>4522341</td>\n",
       "    </tr>\n",
       "    <tr>\n",
       "      <th>1</th>\n",
       "      <td>33</td>\n",
       "      <td>Portland International Airport</td>\n",
       "      <td>PDX</td>\n",
       "      <td>Portland</td>\n",
       "      <td>Portland</td>\n",
       "      <td>OR</td>\n",
       "      <td>8123024</td>\n",
       "      <td>7241882</td>\n",
       "      <td>5759879</td>\n",
       "      <td>3455877</td>\n",
       "      <td>9797408</td>\n",
       "      <td>9940866</td>\n",
       "      <td>9435473</td>\n",
       "      <td>9071154</td>\n",
       "      <td>8340234</td>\n",
       "      <td>7878760</td>\n",
       "    </tr>\n",
       "  </tbody>\n",
       "</table>\n",
       "</div>"
      ],
      "text/plain": [
       "   Rank(2023)          Airports (medium hubs) IATACode City served  \\\n",
       "0          32               Dallas Love Field      DAL      Dallas   \n",
       "1          33  Portland International Airport      PDX    Portland   \n",
       "\n",
       "          Metro Area State  2023[2]  2022[3]  2021[4]  2020[5]  2019[6]  \\\n",
       "0  Dallas–Fort Worth    TX  8559009  7819129  6487563  3669930  8408457   \n",
       "1           Portland    OR  8123024  7241882  5759879  3455877  9797408   \n",
       "\n",
       "   2018[7]  2017[8]  2016[9]  2015[10]  2014[11]  \n",
       "0  8134848  7876769  7554596   7040921   4522341  \n",
       "1  9940866  9435473  9071154   8340234   7878760  "
      ]
     },
     "execution_count": 166,
     "metadata": {},
     "output_type": "execute_result"
    }
   ],
   "source": [
    "medium_hub_df1=test_df1[2]\n",
    "medium_hub_df1.head(2)"
   ]
  },
  {
   "cell_type": "code",
   "execution_count": 167,
   "id": "05a7dfe0",
   "metadata": {},
   "outputs": [
    {
     "data": {
      "text/plain": [
       "33"
      ]
     },
     "execution_count": 167,
     "metadata": {},
     "output_type": "execute_result"
    }
   ],
   "source": [
    "len(medium_hub_df1)"
   ]
  },
  {
   "cell_type": "code",
   "execution_count": 168,
   "id": "7f6d0dbc",
   "metadata": {},
   "outputs": [],
   "source": [
    "medium_hub_df1.drop(columns=['2023[2]','2022[3]', '2021[4]', '2020[5]', '2019[6]','2018[7]', '2017[8]', '2016[9]', '2015[10]','2014[11]', \n",
    "                            'Rank(2023)','City served','Metro Area','State'],inplace=True)"
   ]
  },
  {
   "cell_type": "code",
   "execution_count": 169,
   "id": "b609cc00",
   "metadata": {},
   "outputs": [
    {
     "data": {
      "text/plain": [
       "Airports (medium hubs)    0\n",
       "IATACode                  0\n",
       "dtype: int64"
      ]
     },
     "execution_count": 169,
     "metadata": {},
     "output_type": "execute_result"
    }
   ],
   "source": [
    "medium_hub_df1.isnull().sum()"
   ]
  },
  {
   "cell_type": "markdown",
   "id": "361da46b",
   "metadata": {},
   "source": [
    "#### ** And then combining both large hub airports data and medium hub airports data into one Dataframe using merge"
   ]
  },
  {
   "cell_type": "code",
   "execution_count": 170,
   "id": "af9b6a2b",
   "metadata": {},
   "outputs": [
    {
     "data": {
      "text/html": [
       "<div>\n",
       "<style scoped>\n",
       "    .dataframe tbody tr th:only-of-type {\n",
       "        vertical-align: middle;\n",
       "    }\n",
       "\n",
       "    .dataframe tbody tr th {\n",
       "        vertical-align: top;\n",
       "    }\n",
       "\n",
       "    .dataframe thead th {\n",
       "        text-align: right;\n",
       "    }\n",
       "</style>\n",
       "<table border=\"1\" class=\"dataframe\">\n",
       "  <thead>\n",
       "    <tr style=\"text-align: right;\">\n",
       "      <th></th>\n",
       "      <th>Airports (large)</th>\n",
       "      <th>IATACode</th>\n",
       "      <th>Airports (medium hubs)</th>\n",
       "    </tr>\n",
       "  </thead>\n",
       "  <tbody>\n",
       "    <tr>\n",
       "      <th>0</th>\n",
       "      <td>Hartsfield–Jackson Atlanta International Airport</td>\n",
       "      <td>ATL</td>\n",
       "      <td>NaN</td>\n",
       "    </tr>\n",
       "    <tr>\n",
       "      <th>1</th>\n",
       "      <td>Dallas/Fort Worth International Airport</td>\n",
       "      <td>DFW</td>\n",
       "      <td>NaN</td>\n",
       "    </tr>\n",
       "    <tr>\n",
       "      <th>2</th>\n",
       "      <td>Denver International Airport</td>\n",
       "      <td>DEN</td>\n",
       "      <td>NaN</td>\n",
       "    </tr>\n",
       "    <tr>\n",
       "      <th>3</th>\n",
       "      <td>Los Angeles International Airport</td>\n",
       "      <td>LAX</td>\n",
       "      <td>NaN</td>\n",
       "    </tr>\n",
       "    <tr>\n",
       "      <th>4</th>\n",
       "      <td>O'Hare International Airport</td>\n",
       "      <td>ORD</td>\n",
       "      <td>NaN</td>\n",
       "    </tr>\n",
       "  </tbody>\n",
       "</table>\n",
       "</div>"
      ],
      "text/plain": [
       "                                   Airports (large) IATACode  \\\n",
       "0  Hartsfield–Jackson Atlanta International Airport      ATL   \n",
       "1           Dallas/Fort Worth International Airport      DFW   \n",
       "2                      Denver International Airport      DEN   \n",
       "3                 Los Angeles International Airport      LAX   \n",
       "4                      O'Hare International Airport      ORD   \n",
       "\n",
       "  Airports (medium hubs)  \n",
       "0                    NaN  \n",
       "1                    NaN  \n",
       "2                    NaN  \n",
       "3                    NaN  \n",
       "4                    NaN  "
      ]
     },
     "execution_count": 170,
     "metadata": {},
     "output_type": "execute_result"
    }
   ],
   "source": [
    "large_medium_hubs=pd.merge(large_hub_df1,medium_hub_df1,on='IATACode',how='outer')\n",
    "large_medium_hubs.head()"
   ]
  },
  {
   "cell_type": "code",
   "execution_count": 171,
   "id": "4bab8f7d",
   "metadata": {},
   "outputs": [
    {
     "data": {
      "text/plain": [
       "Airports (large)          33\n",
       "IATACode                   0\n",
       "Airports (medium hubs)    31\n",
       "dtype: int64"
      ]
     },
     "execution_count": 171,
     "metadata": {},
     "output_type": "execute_result"
    }
   ],
   "source": [
    "large_medium_hubs.isnull().sum()"
   ]
  },
  {
   "cell_type": "code",
   "execution_count": 172,
   "id": "99b83398",
   "metadata": {},
   "outputs": [
    {
     "data": {
      "text/plain": [
       "(64, 3)"
      ]
     },
     "execution_count": 172,
     "metadata": {},
     "output_type": "execute_result"
    }
   ],
   "source": [
    "large_medium_hubs.shape"
   ]
  },
  {
   "cell_type": "markdown",
   "id": "92b76394",
   "metadata": {},
   "source": [
    "#### ** In large_medium_hubs dataframe,  Renaming column IATACode into iata_code to match the column name in merged_df dataframe"
   ]
  },
  {
   "cell_type": "code",
   "execution_count": 173,
   "id": "1331a93f",
   "metadata": {},
   "outputs": [
    {
     "data": {
      "text/plain": [
       "Index(['Airports (large)', 'iata_code', 'Airports (medium hubs)'], dtype='object')"
      ]
     },
     "execution_count": 173,
     "metadata": {},
     "output_type": "execute_result"
    }
   ],
   "source": [
    "large_medium_hubs.rename(columns={'IATACode':'iata_code'},inplace=True)\n",
    "large_medium_hubs.columns"
   ]
  },
  {
   "cell_type": "markdown",
   "id": "62fcd1f9",
   "metadata": {},
   "source": [
    "#### **Combining merged_df and large_medium_hubs dataframes into one so that all the information is in one place, key should be iata_code"
   ]
  },
  {
   "cell_type": "code",
   "execution_count": 174,
   "id": "5e33f1d1",
   "metadata": {},
   "outputs": [
    {
     "data": {
      "text/html": [
       "<div>\n",
       "<style scoped>\n",
       "    .dataframe tbody tr th:only-of-type {\n",
       "        vertical-align: middle;\n",
       "    }\n",
       "\n",
       "    .dataframe tbody tr th {\n",
       "        vertical-align: top;\n",
       "    }\n",
       "\n",
       "    .dataframe thead th {\n",
       "        text-align: right;\n",
       "    }\n",
       "</style>\n",
       "<table border=\"1\" class=\"dataframe\">\n",
       "  <thead>\n",
       "    <tr style=\"text-align: right;\">\n",
       "      <th></th>\n",
       "      <th>Airline</th>\n",
       "      <th>Flight</th>\n",
       "      <th>AirportFrom</th>\n",
       "      <th>AirportTo</th>\n",
       "      <th>DayOfWeek</th>\n",
       "      <th>Time</th>\n",
       "      <th>Length</th>\n",
       "      <th>Delay</th>\n",
       "      <th>ident</th>\n",
       "      <th>type</th>\n",
       "      <th>elevation_ft</th>\n",
       "      <th>iata_code</th>\n",
       "      <th>airport_ref</th>\n",
       "      <th>length_ft</th>\n",
       "      <th>width_ft</th>\n",
       "      <th>surface</th>\n",
       "      <th>Airports (large)</th>\n",
       "      <th>Airports (medium hubs)</th>\n",
       "    </tr>\n",
       "  </thead>\n",
       "  <tbody>\n",
       "    <tr>\n",
       "      <th>0</th>\n",
       "      <td>CO</td>\n",
       "      <td>269</td>\n",
       "      <td>SFO</td>\n",
       "      <td>IAH</td>\n",
       "      <td>3</td>\n",
       "      <td>15</td>\n",
       "      <td>205</td>\n",
       "      <td>1</td>\n",
       "      <td>00A</td>\n",
       "      <td>heliport</td>\n",
       "      <td>11.0</td>\n",
       "      <td>NaN</td>\n",
       "      <td>6523.0</td>\n",
       "      <td>80.0</td>\n",
       "      <td>80.0</td>\n",
       "      <td>ASPH-G</td>\n",
       "      <td>NaN</td>\n",
       "      <td>NaN</td>\n",
       "    </tr>\n",
       "    <tr>\n",
       "      <th>1</th>\n",
       "      <td>US</td>\n",
       "      <td>1558</td>\n",
       "      <td>PHX</td>\n",
       "      <td>CLT</td>\n",
       "      <td>3</td>\n",
       "      <td>15</td>\n",
       "      <td>222</td>\n",
       "      <td>1</td>\n",
       "      <td>00AA</td>\n",
       "      <td>small_airport</td>\n",
       "      <td>3435.0</td>\n",
       "      <td>NaN</td>\n",
       "      <td>NaN</td>\n",
       "      <td>NaN</td>\n",
       "      <td>NaN</td>\n",
       "      <td>NaN</td>\n",
       "      <td>NaN</td>\n",
       "      <td>NaN</td>\n",
       "    </tr>\n",
       "    <tr>\n",
       "      <th>2</th>\n",
       "      <td>AA</td>\n",
       "      <td>2400</td>\n",
       "      <td>LAX</td>\n",
       "      <td>DFW</td>\n",
       "      <td>3</td>\n",
       "      <td>20</td>\n",
       "      <td>165</td>\n",
       "      <td>1</td>\n",
       "      <td>00AK</td>\n",
       "      <td>small_airport</td>\n",
       "      <td>450.0</td>\n",
       "      <td>NaN</td>\n",
       "      <td>6524.0</td>\n",
       "      <td>2500.0</td>\n",
       "      <td>70.0</td>\n",
       "      <td>GRVL</td>\n",
       "      <td>NaN</td>\n",
       "      <td>NaN</td>\n",
       "    </tr>\n",
       "    <tr>\n",
       "      <th>3</th>\n",
       "      <td>AA</td>\n",
       "      <td>2466</td>\n",
       "      <td>SFO</td>\n",
       "      <td>DFW</td>\n",
       "      <td>3</td>\n",
       "      <td>20</td>\n",
       "      <td>195</td>\n",
       "      <td>1</td>\n",
       "      <td>00AL</td>\n",
       "      <td>small_airport</td>\n",
       "      <td>820.0</td>\n",
       "      <td>NaN</td>\n",
       "      <td>6525.0</td>\n",
       "      <td>2300.0</td>\n",
       "      <td>200.0</td>\n",
       "      <td>TURF</td>\n",
       "      <td>NaN</td>\n",
       "      <td>NaN</td>\n",
       "    </tr>\n",
       "    <tr>\n",
       "      <th>4</th>\n",
       "      <td>AS</td>\n",
       "      <td>108</td>\n",
       "      <td>ANC</td>\n",
       "      <td>SEA</td>\n",
       "      <td>3</td>\n",
       "      <td>30</td>\n",
       "      <td>202</td>\n",
       "      <td>0</td>\n",
       "      <td>00AR</td>\n",
       "      <td>closed</td>\n",
       "      <td>237.0</td>\n",
       "      <td>NaN</td>\n",
       "      <td>6526.0</td>\n",
       "      <td>40.0</td>\n",
       "      <td>40.0</td>\n",
       "      <td>GRASS</td>\n",
       "      <td>NaN</td>\n",
       "      <td>NaN</td>\n",
       "    </tr>\n",
       "  </tbody>\n",
       "</table>\n",
       "</div>"
      ],
      "text/plain": [
       "  Airline  Flight AirportFrom AirportTo  DayOfWeek  Time  Length  Delay ident  \\\n",
       "0      CO     269         SFO       IAH          3    15     205      1   00A   \n",
       "1      US    1558         PHX       CLT          3    15     222      1  00AA   \n",
       "2      AA    2400         LAX       DFW          3    20     165      1  00AK   \n",
       "3      AA    2466         SFO       DFW          3    20     195      1  00AL   \n",
       "4      AS     108         ANC       SEA          3    30     202      0  00AR   \n",
       "\n",
       "            type  elevation_ft iata_code  airport_ref  length_ft  width_ft  \\\n",
       "0       heliport          11.0       NaN       6523.0       80.0      80.0   \n",
       "1  small_airport        3435.0       NaN          NaN        NaN       NaN   \n",
       "2  small_airport         450.0       NaN       6524.0     2500.0      70.0   \n",
       "3  small_airport         820.0       NaN       6525.0     2300.0     200.0   \n",
       "4         closed         237.0       NaN       6526.0       40.0      40.0   \n",
       "\n",
       "  surface Airports (large) Airports (medium hubs)  \n",
       "0  ASPH-G              NaN                    NaN  \n",
       "1     NaN              NaN                    NaN  \n",
       "2    GRVL              NaN                    NaN  \n",
       "3    TURF              NaN                    NaN  \n",
       "4   GRASS              NaN                    NaN  "
      ]
     },
     "execution_count": 174,
     "metadata": {},
     "output_type": "execute_result"
    }
   ],
   "source": [
    "merged_Df1=pd.merge(merged_df,large_medium_hubs,on='iata_code',how='outer')\n",
    "merged_Df1.head()"
   ]
  },
  {
   "cell_type": "code",
   "execution_count": 175,
   "id": "fb4683d9",
   "metadata": {},
   "outputs": [
    {
     "data": {
      "text/plain": [
       "(525268, 18)"
      ]
     },
     "execution_count": 175,
     "metadata": {},
     "output_type": "execute_result"
    }
   ],
   "source": [
    "merged_Df1.shape"
   ]
  },
  {
   "cell_type": "code",
   "execution_count": 176,
   "id": "3c875de9",
   "metadata": {},
   "outputs": [
    {
     "data": {
      "text/plain": [
       "Airline                        0\n",
       "Flight                         0\n",
       "AirportFrom                    0\n",
       "AirportTo                      0\n",
       "DayOfWeek                      0\n",
       "Time                           0\n",
       "Length                         0\n",
       "Delay                          0\n",
       "ident                     444751\n",
       "type                      444751\n",
       "elevation_ft              459138\n",
       "iata_code                 513068\n",
       "airport_ref               481291\n",
       "length_ft                 481515\n",
       "width_ft                  484180\n",
       "surface                   481748\n",
       "Airports (large)          525134\n",
       "Airports (medium hubs)    525170\n",
       "dtype: int64"
      ]
     },
     "execution_count": 176,
     "metadata": {},
     "output_type": "execute_result"
    }
   ],
   "source": [
    "merged_Df1.isnull().sum()"
   ]
  },
  {
   "cell_type": "markdown",
   "id": "787f275f",
   "metadata": {},
   "source": [
    "#### **There are null values in some columns so replacing them with median,mode and with 'none' for some other columns"
   ]
  },
  {
   "cell_type": "code",
   "execution_count": 177,
   "id": "d0bc8a3a",
   "metadata": {},
   "outputs": [],
   "source": [
    "merged_Df1['type']=merged_Df1['type'].fillna(merged_Df1['type'].mode()[0])\n",
    "\n",
    "merged_Df1['elevation_ft']=merged_Df1['elevation_ft'].fillna(merged_Df1['elevation_ft'].median())\n",
    "\n",
    "merged_Df1['airport_ref']=merged_Df1['airport_ref'].fillna(merged_Df1['airport_ref'].median())\n",
    "\n",
    "merged_Df1['length_ft']=merged_Df1['length_ft'].fillna(merged_Df1['length_ft'].median())\n",
    "\n",
    "merged_Df1['width_ft']=merged_Df1['width_ft'].fillna(merged_Df1['width_ft'].median())\n",
    "\n",
    "merged_Df1['Airports (large)']=merged_Df1['Airports (large)'].fillna('none')\n",
    "\n",
    "merged_Df1['Airports (medium hubs)']=merged_Df1['Airports (medium hubs)'].fillna('none')\n"
   ]
  },
  {
   "cell_type": "markdown",
   "id": "d00f5092",
   "metadata": {},
   "source": [
    "## --Perform data visualization and share your insights on the following points:"
   ]
  },
  {
   "cell_type": "code",
   "execution_count": 178,
   "id": "134108a2",
   "metadata": {},
   "outputs": [
    {
     "data": {
      "text/html": [
       "<div>\n",
       "<style scoped>\n",
       "    .dataframe tbody tr th:only-of-type {\n",
       "        vertical-align: middle;\n",
       "    }\n",
       "\n",
       "    .dataframe tbody tr th {\n",
       "        vertical-align: top;\n",
       "    }\n",
       "\n",
       "    .dataframe thead th {\n",
       "        text-align: right;\n",
       "    }\n",
       "</style>\n",
       "<table border=\"1\" class=\"dataframe\">\n",
       "  <thead>\n",
       "    <tr style=\"text-align: right;\">\n",
       "      <th></th>\n",
       "      <th>Airline</th>\n",
       "      <th>Flight</th>\n",
       "      <th>AirportFrom</th>\n",
       "      <th>AirportTo</th>\n",
       "      <th>DayOfWeek</th>\n",
       "      <th>Time</th>\n",
       "      <th>Length</th>\n",
       "      <th>Delay</th>\n",
       "      <th>ident</th>\n",
       "      <th>type</th>\n",
       "      <th>elevation_ft</th>\n",
       "      <th>iata_code</th>\n",
       "      <th>airport_ref</th>\n",
       "      <th>length_ft</th>\n",
       "      <th>width_ft</th>\n",
       "      <th>surface</th>\n",
       "      <th>Airports (large)</th>\n",
       "      <th>Airports (medium hubs)</th>\n",
       "    </tr>\n",
       "  </thead>\n",
       "  <tbody>\n",
       "    <tr>\n",
       "      <th>0</th>\n",
       "      <td>CO</td>\n",
       "      <td>269</td>\n",
       "      <td>SFO</td>\n",
       "      <td>IAH</td>\n",
       "      <td>3</td>\n",
       "      <td>15</td>\n",
       "      <td>205</td>\n",
       "      <td>1</td>\n",
       "      <td>00A</td>\n",
       "      <td>heliport</td>\n",
       "      <td>11.0</td>\n",
       "      <td>NaN</td>\n",
       "      <td>6523.0</td>\n",
       "      <td>80.0</td>\n",
       "      <td>80.0</td>\n",
       "      <td>ASPH-G</td>\n",
       "      <td>none</td>\n",
       "      <td>none</td>\n",
       "    </tr>\n",
       "  </tbody>\n",
       "</table>\n",
       "</div>"
      ],
      "text/plain": [
       "  Airline  Flight AirportFrom AirportTo  DayOfWeek  Time  Length  Delay ident  \\\n",
       "0      CO     269         SFO       IAH          3    15     205      1   00A   \n",
       "\n",
       "       type  elevation_ft iata_code  airport_ref  length_ft  width_ft surface  \\\n",
       "0  heliport          11.0       NaN       6523.0       80.0      80.0  ASPH-G   \n",
       "\n",
       "  Airports (large) Airports (medium hubs)  \n",
       "0             none                   none  "
      ]
     },
     "execution_count": 178,
     "metadata": {},
     "output_type": "execute_result"
    }
   ],
   "source": [
    "merged_Df1.head(1)"
   ]
  },
  {
   "cell_type": "markdown",
   "id": "80c03806",
   "metadata": {},
   "source": [
    "### a. According to the data provided, approximately 70% of Southwest Airlines flights are delayed. Visualize it to compare it with the data of other airlines."
   ]
  },
  {
   "cell_type": "code",
   "execution_count": 179,
   "id": "9bfd49f3",
   "metadata": {},
   "outputs": [
    {
     "data": {
      "image/png": "[encoded data removed]",
      "text/plain": [
       "<Figure size 800x400 with 1 Axes>"
      ]
     },
     "metadata": {},
     "output_type": "display_data"
    }
   ],
   "source": [
    "southwest_data=merged_Df1[merged_Df1['Airline']=='OO']    # 'OO'-southwest\n",
    "other_airlines_data=merged_Df1[merged_df['Airline']!='OO']\n",
    "plt.figure(figsize=(8,4))\n",
    "plt.bar('south west',southwest_data['Delay'].sum(),color='orange') # count of delayed flights for southwest\n",
    "plt.bar('other Airlines',other_airlines_data['Delay'].sum(),color='skyblue') # count of delayed flights for other airlines\n",
    "plt.title('comparison of delayed flights: Southwest vs Other Airlines')\n",
    "plt.ylabel('count of delayed flights')\n",
    "plt.show()"
   ]
  },
  {
   "cell_type": "markdown",
   "id": "2b01b2da",
   "metadata": {},
   "source": [
    "** approximately 25000 Southwest Airlines flights were delayed and above 200000 airlines were delayed for other airlines **"
   ]
  },
  {
   "cell_type": "markdown",
   "id": "d7671f59",
   "metadata": {},
   "source": [
    "### b. Flights were delayed on various weekdays. Which day of the week is the safest for travel?"
   ]
  },
  {
   "cell_type": "code",
   "execution_count": 180,
   "id": "d077142f",
   "metadata": {},
   "outputs": [
    {
     "data": {
      "text/plain": [
       "4    89504\n",
       "3    87587\n",
       "5    84777\n",
       "1    70008\n",
       "2    68721\n",
       "7    68012\n",
       "6    56659\n",
       "Name: DayOfWeek, dtype: int64"
      ]
     },
     "execution_count": 180,
     "metadata": {},
     "output_type": "execute_result"
    }
   ],
   "source": [
    "merged_Df1['DayOfWeek'].value_counts()"
   ]
  },
  {
   "cell_type": "code",
   "execution_count": 181,
   "id": "727912e2",
   "metadata": {},
   "outputs": [
    {
     "data": {
      "text/plain": [
       "DayOfWeek\n",
       "1    33059\n",
       "2    31072\n",
       "3    41620\n",
       "4    40712\n",
       "5    35519\n",
       "6    22963\n",
       "7    31054\n",
       "Name: Delay, dtype: int64"
      ]
     },
     "execution_count": 181,
     "metadata": {},
     "output_type": "execute_result"
    }
   ],
   "source": [
    "week_delays=merged_Df1.groupby('DayOfWeek')['Delay'].sum()\n",
    "week_delays"
   ]
  },
  {
   "cell_type": "code",
   "execution_count": 182,
   "id": "655ecd47",
   "metadata": {},
   "outputs": [
    {
     "name": "stdout",
     "output_type": "stream",
     "text": [
      "safest weekday for travelling is 6:\n"
     ]
    }
   ],
   "source": [
    "safest_weekday=week_delays.idxmin()\n",
    "print(f'safest weekday for travelling is {safest_weekday}:')"
   ]
  },
  {
   "cell_type": "code",
   "execution_count": 183,
   "id": "523ac69b",
   "metadata": {},
   "outputs": [
    {
     "data": {
      "image/png": "[encoded data removed]",
      "text/plain": [
       "<Figure size 800x400 with 1 Axes>"
      ]
     },
     "metadata": {},
     "output_type": "display_data"
    }
   ],
   "source": [
    "plt.figure(figsize=(8,4))\n",
    "sns.barplot(x='DayOfWeek',y='Delay',data=merged_Df1)\n",
    "plt.title('count of delayed flights by weekdays')\n",
    "plt.xlabel('weekdays')\n",
    "plt.ylabel('count of delayed flights')\n",
    "plt.show()"
   ]
  },
  {
   "cell_type": "markdown",
   "id": "d0bd7a5b",
   "metadata": {},
   "source": [
    "** the safest weekday for travelling is 6th weekday with the count of delays 22963 **"
   ]
  },
  {
   "cell_type": "markdown",
   "id": "8d0d73e5",
   "metadata": {},
   "source": [
    "### c. Which airlines should be recommended for short-, medium-, and long-distance travel?"
   ]
  },
  {
   "cell_type": "code",
   "execution_count": 184,
   "id": "29b69f6f",
   "metadata": {},
   "outputs": [
    {
     "data": {
      "text/plain": [
       "count    525268.000000\n",
       "mean        132.207692\n",
       "std          70.924749\n",
       "min           0.000000\n",
       "25%          80.000000\n",
       "50%         115.000000\n",
       "75%         163.000000\n",
       "max         655.000000\n",
       "Name: Length, dtype: float64"
      ]
     },
     "execution_count": 184,
     "metadata": {},
     "output_type": "execute_result"
    }
   ],
   "source": [
    "merged_Df1.describe().Length"
   ]
  },
  {
   "cell_type": "markdown",
   "id": "818574ac",
   "metadata": {},
   "source": [
    "#### ** column 'Length' has continuous  numeric data so for converting into categorical data binning is used"
   ]
  },
  {
   "cell_type": "code",
   "execution_count": 185,
   "id": "caaa2500",
   "metadata": {},
   "outputs": [
    {
     "data": {
      "text/html": [
       "<div>\n",
       "<style scoped>\n",
       "    .dataframe tbody tr th:only-of-type {\n",
       "        vertical-align: middle;\n",
       "    }\n",
       "\n",
       "    .dataframe tbody tr th {\n",
       "        vertical-align: top;\n",
       "    }\n",
       "\n",
       "    .dataframe thead th {\n",
       "        text-align: right;\n",
       "    }\n",
       "</style>\n",
       "<table border=\"1\" class=\"dataframe\">\n",
       "  <thead>\n",
       "    <tr style=\"text-align: right;\">\n",
       "      <th></th>\n",
       "      <th>Airline</th>\n",
       "      <th>Flight</th>\n",
       "      <th>AirportFrom</th>\n",
       "      <th>AirportTo</th>\n",
       "      <th>DayOfWeek</th>\n",
       "      <th>Time</th>\n",
       "      <th>Length</th>\n",
       "      <th>Delay</th>\n",
       "      <th>ident</th>\n",
       "      <th>type</th>\n",
       "      <th>elevation_ft</th>\n",
       "      <th>iata_code</th>\n",
       "      <th>airport_ref</th>\n",
       "      <th>length_ft</th>\n",
       "      <th>width_ft</th>\n",
       "      <th>surface</th>\n",
       "      <th>Airports (large)</th>\n",
       "      <th>Airports (medium hubs)</th>\n",
       "      <th>travelling_duration</th>\n",
       "    </tr>\n",
       "  </thead>\n",
       "  <tbody>\n",
       "    <tr>\n",
       "      <th>0</th>\n",
       "      <td>CO</td>\n",
       "      <td>269</td>\n",
       "      <td>SFO</td>\n",
       "      <td>IAH</td>\n",
       "      <td>3</td>\n",
       "      <td>15</td>\n",
       "      <td>205</td>\n",
       "      <td>1</td>\n",
       "      <td>00A</td>\n",
       "      <td>heliport</td>\n",
       "      <td>11.0</td>\n",
       "      <td>NaN</td>\n",
       "      <td>6523.0</td>\n",
       "      <td>80.0</td>\n",
       "      <td>80.0</td>\n",
       "      <td>ASPH-G</td>\n",
       "      <td>none</td>\n",
       "      <td>none</td>\n",
       "      <td>long-distance</td>\n",
       "    </tr>\n",
       "    <tr>\n",
       "      <th>1</th>\n",
       "      <td>US</td>\n",
       "      <td>1558</td>\n",
       "      <td>PHX</td>\n",
       "      <td>CLT</td>\n",
       "      <td>3</td>\n",
       "      <td>15</td>\n",
       "      <td>222</td>\n",
       "      <td>1</td>\n",
       "      <td>00AA</td>\n",
       "      <td>small_airport</td>\n",
       "      <td>3435.0</td>\n",
       "      <td>NaN</td>\n",
       "      <td>19486.0</td>\n",
       "      <td>2700.0</td>\n",
       "      <td>75.0</td>\n",
       "      <td>NaN</td>\n",
       "      <td>none</td>\n",
       "      <td>none</td>\n",
       "      <td>long-distance</td>\n",
       "    </tr>\n",
       "    <tr>\n",
       "      <th>2</th>\n",
       "      <td>AA</td>\n",
       "      <td>2400</td>\n",
       "      <td>LAX</td>\n",
       "      <td>DFW</td>\n",
       "      <td>3</td>\n",
       "      <td>20</td>\n",
       "      <td>165</td>\n",
       "      <td>1</td>\n",
       "      <td>00AK</td>\n",
       "      <td>small_airport</td>\n",
       "      <td>450.0</td>\n",
       "      <td>NaN</td>\n",
       "      <td>6524.0</td>\n",
       "      <td>2500.0</td>\n",
       "      <td>70.0</td>\n",
       "      <td>GRVL</td>\n",
       "      <td>none</td>\n",
       "      <td>none</td>\n",
       "      <td>long-distance</td>\n",
       "    </tr>\n",
       "    <tr>\n",
       "      <th>3</th>\n",
       "      <td>AA</td>\n",
       "      <td>2466</td>\n",
       "      <td>SFO</td>\n",
       "      <td>DFW</td>\n",
       "      <td>3</td>\n",
       "      <td>20</td>\n",
       "      <td>195</td>\n",
       "      <td>1</td>\n",
       "      <td>00AL</td>\n",
       "      <td>small_airport</td>\n",
       "      <td>820.0</td>\n",
       "      <td>NaN</td>\n",
       "      <td>6525.0</td>\n",
       "      <td>2300.0</td>\n",
       "      <td>200.0</td>\n",
       "      <td>TURF</td>\n",
       "      <td>none</td>\n",
       "      <td>none</td>\n",
       "      <td>long-distance</td>\n",
       "    </tr>\n",
       "    <tr>\n",
       "      <th>4</th>\n",
       "      <td>AS</td>\n",
       "      <td>108</td>\n",
       "      <td>ANC</td>\n",
       "      <td>SEA</td>\n",
       "      <td>3</td>\n",
       "      <td>30</td>\n",
       "      <td>202</td>\n",
       "      <td>0</td>\n",
       "      <td>00AR</td>\n",
       "      <td>closed</td>\n",
       "      <td>237.0</td>\n",
       "      <td>NaN</td>\n",
       "      <td>6526.0</td>\n",
       "      <td>40.0</td>\n",
       "      <td>40.0</td>\n",
       "      <td>GRASS</td>\n",
       "      <td>none</td>\n",
       "      <td>none</td>\n",
       "      <td>long-distance</td>\n",
       "    </tr>\n",
       "  </tbody>\n",
       "</table>\n",
       "</div>"
      ],
      "text/plain": [
       "  Airline  Flight AirportFrom AirportTo  DayOfWeek  Time  Length  Delay ident  \\\n",
       "0      CO     269         SFO       IAH          3    15     205      1   00A   \n",
       "1      US    1558         PHX       CLT          3    15     222      1  00AA   \n",
       "2      AA    2400         LAX       DFW          3    20     165      1  00AK   \n",
       "3      AA    2466         SFO       DFW          3    20     195      1  00AL   \n",
       "4      AS     108         ANC       SEA          3    30     202      0  00AR   \n",
       "\n",
       "            type  elevation_ft iata_code  airport_ref  length_ft  width_ft  \\\n",
       "0       heliport          11.0       NaN       6523.0       80.0      80.0   \n",
       "1  small_airport        3435.0       NaN      19486.0     2700.0      75.0   \n",
       "2  small_airport         450.0       NaN       6524.0     2500.0      70.0   \n",
       "3  small_airport         820.0       NaN       6525.0     2300.0     200.0   \n",
       "4         closed         237.0       NaN       6526.0       40.0      40.0   \n",
       "\n",
       "  surface Airports (large) Airports (medium hubs) travelling_duration  \n",
       "0  ASPH-G             none                   none       long-distance  \n",
       "1     NaN             none                   none       long-distance  \n",
       "2    GRVL             none                   none       long-distance  \n",
       "3    TURF             none                   none       long-distance  \n",
       "4   GRASS             none                   none       long-distance  "
      ]
     },
     "execution_count": 185,
     "metadata": {},
     "output_type": "execute_result"
    }
   ],
   "source": [
    "bin_edges=[0.000000,80.000000,163.000000,655.000000]\n",
    "bin_names=['short-distance','medium-distance','long-distance']\n",
    "merged_Df1['travelling_duration']=pd.cut(merged_Df1['Length'],bin_edges,labels=bin_names)\n",
    "merged_Df1.head()"
   ]
  },
  {
   "cell_type": "markdown",
   "id": "f5eb078e",
   "metadata": {},
   "source": [
    "### d. Do you notice any patterns in the departure times of long-duration flights?"
   ]
  },
  {
   "cell_type": "code",
   "execution_count": 186,
   "id": "27fd8966",
   "metadata": {},
   "outputs": [
    {
     "data": {
      "image/png": "[encoded data removed]",
      "text/plain": [
       "<Figure size 800x400 with 1 Axes>"
      ]
     },
     "metadata": {},
     "output_type": "display_data"
    }
   ],
   "source": [
    "long_duration_flights=merged_Df1[merged_Df1['travelling_duration']=='long-distance']\n",
    "plt.figure(figsize=(8,4))\n",
    "plt.scatter(long_duration_flights['Time'],long_duration_flights['travelling_duration'])\n",
    "plt.title('Departure times of long-duration filghts')\n",
    "plt.xlabel('Departure times')\n",
    "plt.ylabel('airline_travelling')\n",
    "plt.show()"
   ]
  },
  {
   "cell_type": "markdown",
   "id": "796ce38c",
   "metadata": {},
   "source": [
    "** the Large hubs and Medium hubs columns are melted into a single column, and then Delay column is used for hue **\n",
    "\n",
    "** There is no difference between  Large and Medium hubs in delayed flights **"
   ]
  },
  {
   "cell_type": "markdown",
   "id": "62cbc7e8",
   "metadata": {},
   "source": [
    "## --Find the correlation matrix between the flight delay predictors, create a heatmap to visualize this, and share your findings"
   ]
  },
  {
   "cell_type": "code",
   "execution_count": 187,
   "id": "f6143447",
   "metadata": {},
   "outputs": [
    {
     "data": {
      "text/html": [
       "<div>\n",
       "<style scoped>\n",
       "    .dataframe tbody tr th:only-of-type {\n",
       "        vertical-align: middle;\n",
       "    }\n",
       "\n",
       "    .dataframe tbody tr th {\n",
       "        vertical-align: top;\n",
       "    }\n",
       "\n",
       "    .dataframe thead th {\n",
       "        text-align: right;\n",
       "    }\n",
       "</style>\n",
       "<table border=\"1\" class=\"dataframe\">\n",
       "  <thead>\n",
       "    <tr style=\"text-align: right;\">\n",
       "      <th></th>\n",
       "      <th>Flight</th>\n",
       "      <th>DayOfWeek</th>\n",
       "      <th>Time</th>\n",
       "      <th>Length</th>\n",
       "      <th>Delay</th>\n",
       "      <th>elevation_ft</th>\n",
       "      <th>airport_ref</th>\n",
       "      <th>length_ft</th>\n",
       "      <th>width_ft</th>\n",
       "    </tr>\n",
       "  </thead>\n",
       "  <tbody>\n",
       "    <tr>\n",
       "      <th>Flight</th>\n",
       "      <td>1.000000</td>\n",
       "      <td>0.001435</td>\n",
       "      <td>-0.001842</td>\n",
       "      <td>-0.350262</td>\n",
       "      <td>-0.057803</td>\n",
       "      <td>-0.001719</td>\n",
       "      <td>-0.000765</td>\n",
       "      <td>0.001721</td>\n",
       "      <td>0.001163</td>\n",
       "    </tr>\n",
       "    <tr>\n",
       "      <th>DayOfWeek</th>\n",
       "      <td>0.001435</td>\n",
       "      <td>1.000000</td>\n",
       "      <td>-0.001936</td>\n",
       "      <td>0.012987</td>\n",
       "      <td>-0.027152</td>\n",
       "      <td>0.059487</td>\n",
       "      <td>0.049505</td>\n",
       "      <td>0.066406</td>\n",
       "      <td>0.013380</td>\n",
       "    </tr>\n",
       "    <tr>\n",
       "      <th>Time</th>\n",
       "      <td>-0.001842</td>\n",
       "      <td>-0.001936</td>\n",
       "      <td>1.000000</td>\n",
       "      <td>-0.020418</td>\n",
       "      <td>0.150678</td>\n",
       "      <td>-0.028650</td>\n",
       "      <td>-0.001762</td>\n",
       "      <td>-0.021194</td>\n",
       "      <td>-0.014841</td>\n",
       "    </tr>\n",
       "    <tr>\n",
       "      <th>Length</th>\n",
       "      <td>-0.350262</td>\n",
       "      <td>0.012987</td>\n",
       "      <td>-0.020418</td>\n",
       "      <td>1.000000</td>\n",
       "      <td>0.040592</td>\n",
       "      <td>0.001805</td>\n",
       "      <td>-0.000223</td>\n",
       "      <td>0.002130</td>\n",
       "      <td>-0.001519</td>\n",
       "    </tr>\n",
       "    <tr>\n",
       "      <th>Delay</th>\n",
       "      <td>-0.057803</td>\n",
       "      <td>-0.027152</td>\n",
       "      <td>0.150678</td>\n",
       "      <td>0.040592</td>\n",
       "      <td>1.000000</td>\n",
       "      <td>-0.030692</td>\n",
       "      <td>-0.016027</td>\n",
       "      <td>-0.029028</td>\n",
       "      <td>-0.009960</td>\n",
       "    </tr>\n",
       "    <tr>\n",
       "      <th>elevation_ft</th>\n",
       "      <td>-0.001719</td>\n",
       "      <td>0.059487</td>\n",
       "      <td>-0.028650</td>\n",
       "      <td>0.001805</td>\n",
       "      <td>-0.030692</td>\n",
       "      <td>1.000000</td>\n",
       "      <td>0.074755</td>\n",
       "      <td>0.065895</td>\n",
       "      <td>-0.003731</td>\n",
       "    </tr>\n",
       "    <tr>\n",
       "      <th>airport_ref</th>\n",
       "      <td>-0.000765</td>\n",
       "      <td>0.049505</td>\n",
       "      <td>-0.001762</td>\n",
       "      <td>-0.000223</td>\n",
       "      <td>-0.016027</td>\n",
       "      <td>0.074755</td>\n",
       "      <td>1.000000</td>\n",
       "      <td>-0.059373</td>\n",
       "      <td>0.000108</td>\n",
       "    </tr>\n",
       "    <tr>\n",
       "      <th>length_ft</th>\n",
       "      <td>0.001721</td>\n",
       "      <td>0.066406</td>\n",
       "      <td>-0.021194</td>\n",
       "      <td>0.002130</td>\n",
       "      <td>-0.029028</td>\n",
       "      <td>0.065895</td>\n",
       "      <td>-0.059373</td>\n",
       "      <td>1.000000</td>\n",
       "      <td>0.263711</td>\n",
       "    </tr>\n",
       "    <tr>\n",
       "      <th>width_ft</th>\n",
       "      <td>0.001163</td>\n",
       "      <td>0.013380</td>\n",
       "      <td>-0.014841</td>\n",
       "      <td>-0.001519</td>\n",
       "      <td>-0.009960</td>\n",
       "      <td>-0.003731</td>\n",
       "      <td>0.000108</td>\n",
       "      <td>0.263711</td>\n",
       "      <td>1.000000</td>\n",
       "    </tr>\n",
       "  </tbody>\n",
       "</table>\n",
       "</div>"
      ],
      "text/plain": [
       "                Flight  DayOfWeek      Time    Length     Delay  elevation_ft  \\\n",
       "Flight        1.000000   0.001435 -0.001842 -0.350262 -0.057803     -0.001719   \n",
       "DayOfWeek     0.001435   1.000000 -0.001936  0.012987 -0.027152      0.059487   \n",
       "Time         -0.001842  -0.001936  1.000000 -0.020418  0.150678     -0.028650   \n",
       "Length       -0.350262   0.012987 -0.020418  1.000000  0.040592      0.001805   \n",
       "Delay        -0.057803  -0.027152  0.150678  0.040592  1.000000     -0.030692   \n",
       "elevation_ft -0.001719   0.059487 -0.028650  0.001805 -0.030692      1.000000   \n",
       "airport_ref  -0.000765   0.049505 -0.001762 -0.000223 -0.016027      0.074755   \n",
       "length_ft     0.001721   0.066406 -0.021194  0.002130 -0.029028      0.065895   \n",
       "width_ft      0.001163   0.013380 -0.014841 -0.001519 -0.009960     -0.003731   \n",
       "\n",
       "              airport_ref  length_ft  width_ft  \n",
       "Flight          -0.000765   0.001721  0.001163  \n",
       "DayOfWeek        0.049505   0.066406  0.013380  \n",
       "Time            -0.001762  -0.021194 -0.014841  \n",
       "Length          -0.000223   0.002130 -0.001519  \n",
       "Delay           -0.016027  -0.029028 -0.009960  \n",
       "elevation_ft     0.074755   0.065895 -0.003731  \n",
       "airport_ref      1.000000  -0.059373  0.000108  \n",
       "length_ft       -0.059373   1.000000  0.263711  \n",
       "width_ft         0.000108   0.263711  1.000000  "
      ]
     },
     "execution_count": 187,
     "metadata": {},
     "output_type": "execute_result"
    }
   ],
   "source": [
    "merged_Df1.corr()"
   ]
  },
  {
   "cell_type": "code",
   "execution_count": 188,
   "id": "06189616",
   "metadata": {},
   "outputs": [
    {
     "data": {
      "image/png": "[encoded data removed]",
      "text/plain": [
       "<Figure size 640x480 with 2 Axes>"
      ]
     },
     "metadata": {},
     "output_type": "display_data"
    }
   ],
   "source": [
    "sns.heatmap(merged_Df1.corr());"
   ]
  },
  {
   "cell_type": "markdown",
   "id": "66fb594a",
   "metadata": {},
   "source": [
    "** there is no highly positive correlation among variables **"
   ]
  },
  {
   "cell_type": "code",
   "execution_count": 189,
   "id": "46b52b21",
   "metadata": {},
   "outputs": [
    {
     "data": {
      "text/plain": [
       "Airline                        0\n",
       "Flight                         0\n",
       "AirportFrom                    0\n",
       "AirportTo                      0\n",
       "DayOfWeek                      0\n",
       "Time                           0\n",
       "Length                         0\n",
       "Delay                          0\n",
       "ident                     444751\n",
       "type                           0\n",
       "elevation_ft                   0\n",
       "iata_code                 513068\n",
       "airport_ref                    0\n",
       "length_ft                      0\n",
       "width_ft                       0\n",
       "surface                   481748\n",
       "Airports (large)               0\n",
       "Airports (medium hubs)         0\n",
       "travelling_duration            4\n",
       "dtype: int64"
      ]
     },
     "execution_count": 189,
     "metadata": {},
     "output_type": "execute_result"
    }
   ],
   "source": [
    "merged_Df1.isnull().sum()"
   ]
  },
  {
   "cell_type": "code",
   "execution_count": 190,
   "id": "dd376fad",
   "metadata": {},
   "outputs": [],
   "source": [
    "merged_Df1['travelling_duration']=merged_Df1['travelling_duration'].fillna(merged_Df1['travelling_duration'].mode()[0])"
   ]
  },
  {
   "cell_type": "code",
   "execution_count": 191,
   "id": "da2aa1c2",
   "metadata": {},
   "outputs": [
    {
     "data": {
      "text/plain": [
       "Index(['Airline', 'Flight', 'AirportFrom', 'AirportTo', 'DayOfWeek', 'Time',\n",
       "       'Length', 'Delay', 'ident', 'type', 'elevation_ft', 'iata_code',\n",
       "       'airport_ref', 'length_ft', 'width_ft', 'surface', 'Airports (large)',\n",
       "       'Airports (medium hubs)', 'travelling_duration'],\n",
       "      dtype='object')"
      ]
     },
     "execution_count": 191,
     "metadata": {},
     "output_type": "execute_result"
    }
   ],
   "source": [
    "merged_Df1.columns"
   ]
  },
  {
   "cell_type": "code",
   "execution_count": 192,
   "id": "3813bed9",
   "metadata": {},
   "outputs": [],
   "source": [
    "merged_Df1.drop(columns=['ident','iata_code','surface'],inplace=True)"
   ]
  },
  {
   "cell_type": "code",
   "execution_count": 193,
   "id": "4d3fd0f3",
   "metadata": {},
   "outputs": [
    {
     "data": {
      "text/plain": [
       "Airline                   0\n",
       "Flight                    0\n",
       "AirportFrom               0\n",
       "AirportTo                 0\n",
       "DayOfWeek                 0\n",
       "Time                      0\n",
       "Length                    0\n",
       "Delay                     0\n",
       "type                      0\n",
       "elevation_ft              0\n",
       "airport_ref               0\n",
       "length_ft                 0\n",
       "width_ft                  0\n",
       "Airports (large)          0\n",
       "Airports (medium hubs)    0\n",
       "travelling_duration       0\n",
       "dtype: int64"
      ]
     },
     "execution_count": 193,
     "metadata": {},
     "output_type": "execute_result"
    }
   ],
   "source": [
    "merged_Df1.isnull().sum()"
   ]
  },
  {
   "cell_type": "code",
   "execution_count": 194,
   "id": "aada61ba",
   "metadata": {},
   "outputs": [],
   "source": [
    "#merged_Df2=merged_Df1.copy()"
   ]
  },
  {
   "cell_type": "code",
   "execution_count": 195,
   "id": "8930d340",
   "metadata": {},
   "outputs": [],
   "source": [
    "#merged_Df2.to_csv('Downloads/Datasets (1)/Capstone_3/Airlines_Airports_runways.csv')"
   ]
  },
  {
   "cell_type": "markdown",
   "id": "54ad32b3",
   "metadata": {},
   "source": [
    "#### **Dropping unwanted columns"
   ]
  },
  {
   "cell_type": "code",
   "execution_count": 196,
   "id": "a71e33c1",
   "metadata": {},
   "outputs": [],
   "source": [
    "merged_Df1.drop(columns=['AirportFrom', 'AirportTo','Airports (large)','Airports (medium hubs)'],\n",
    "                inplace=True)"
   ]
  },
  {
   "cell_type": "markdown",
   "id": "970464b8",
   "metadata": {},
   "source": [
    "## --Use OneHotEncoder and OrdinalEncoder to deal with categorical variables"
   ]
  },
  {
   "cell_type": "markdown",
   "id": "928d3a40",
   "metadata": {},
   "source": [
    "#### **Using Encoding to convert categorical data to numeric(binary) data"
   ]
  },
  {
   "cell_type": "code",
   "execution_count": 197,
   "id": "7413a5a8",
   "metadata": {},
   "outputs": [],
   "source": [
    "merged_Df1=pd.get_dummies(merged_Df1,columns=['Airline','type','travelling_duration'])"
   ]
  },
  {
   "cell_type": "code",
   "execution_count": 198,
   "id": "259563ef",
   "metadata": {},
   "outputs": [
    {
     "data": {
      "text/html": [
       "<div>\n",
       "<style scoped>\n",
       "    .dataframe tbody tr th:only-of-type {\n",
       "        vertical-align: middle;\n",
       "    }\n",
       "\n",
       "    .dataframe tbody tr th {\n",
       "        vertical-align: top;\n",
       "    }\n",
       "\n",
       "    .dataframe thead th {\n",
       "        text-align: right;\n",
       "    }\n",
       "</style>\n",
       "<table border=\"1\" class=\"dataframe\">\n",
       "  <thead>\n",
       "    <tr style=\"text-align: right;\">\n",
       "      <th></th>\n",
       "      <th>Flight</th>\n",
       "      <th>DayOfWeek</th>\n",
       "      <th>Time</th>\n",
       "      <th>Length</th>\n",
       "      <th>Delay</th>\n",
       "      <th>elevation_ft</th>\n",
       "      <th>airport_ref</th>\n",
       "      <th>length_ft</th>\n",
       "      <th>width_ft</th>\n",
       "      <th>Airline_9E</th>\n",
       "      <th>Airline_AA</th>\n",
       "      <th>Airline_AS</th>\n",
       "      <th>Airline_B6</th>\n",
       "      <th>Airline_CO</th>\n",
       "      <th>Airline_DL</th>\n",
       "      <th>Airline_EV</th>\n",
       "      <th>Airline_F9</th>\n",
       "      <th>Airline_HA</th>\n",
       "      <th>Airline_MQ</th>\n",
       "      <th>Airline_OH</th>\n",
       "      <th>Airline_OO</th>\n",
       "      <th>Airline_UA</th>\n",
       "      <th>Airline_US</th>\n",
       "      <th>Airline_WN</th>\n",
       "      <th>Airline_XE</th>\n",
       "      <th>Airline_YV</th>\n",
       "      <th>type_balloonport</th>\n",
       "      <th>type_closed</th>\n",
       "      <th>type_heliport</th>\n",
       "      <th>type_large_airport</th>\n",
       "      <th>type_medium_airport</th>\n",
       "      <th>type_seaplane_base</th>\n",
       "      <th>type_small_airport</th>\n",
       "      <th>travelling_duration_short-distance</th>\n",
       "      <th>travelling_duration_medium-distance</th>\n",
       "      <th>travelling_duration_long-distance</th>\n",
       "    </tr>\n",
       "  </thead>\n",
       "  <tbody>\n",
       "    <tr>\n",
       "      <th>0</th>\n",
       "      <td>269</td>\n",
       "      <td>3</td>\n",
       "      <td>15</td>\n",
       "      <td>205</td>\n",
       "      <td>1</td>\n",
       "      <td>11.0</td>\n",
       "      <td>6523.0</td>\n",
       "      <td>80.0</td>\n",
       "      <td>80.0</td>\n",
       "      <td>0</td>\n",
       "      <td>0</td>\n",
       "      <td>0</td>\n",
       "      <td>0</td>\n",
       "      <td>1</td>\n",
       "      <td>0</td>\n",
       "      <td>0</td>\n",
       "      <td>0</td>\n",
       "      <td>0</td>\n",
       "      <td>0</td>\n",
       "      <td>0</td>\n",
       "      <td>0</td>\n",
       "      <td>0</td>\n",
       "      <td>0</td>\n",
       "      <td>0</td>\n",
       "      <td>0</td>\n",
       "      <td>0</td>\n",
       "      <td>0</td>\n",
       "      <td>0</td>\n",
       "      <td>1</td>\n",
       "      <td>0</td>\n",
       "      <td>0</td>\n",
       "      <td>0</td>\n",
       "      <td>0</td>\n",
       "      <td>0</td>\n",
       "      <td>0</td>\n",
       "      <td>1</td>\n",
       "    </tr>\n",
       "    <tr>\n",
       "      <th>1</th>\n",
       "      <td>1558</td>\n",
       "      <td>3</td>\n",
       "      <td>15</td>\n",
       "      <td>222</td>\n",
       "      <td>1</td>\n",
       "      <td>3435.0</td>\n",
       "      <td>19486.0</td>\n",
       "      <td>2700.0</td>\n",
       "      <td>75.0</td>\n",
       "      <td>0</td>\n",
       "      <td>0</td>\n",
       "      <td>0</td>\n",
       "      <td>0</td>\n",
       "      <td>0</td>\n",
       "      <td>0</td>\n",
       "      <td>0</td>\n",
       "      <td>0</td>\n",
       "      <td>0</td>\n",
       "      <td>0</td>\n",
       "      <td>0</td>\n",
       "      <td>0</td>\n",
       "      <td>0</td>\n",
       "      <td>1</td>\n",
       "      <td>0</td>\n",
       "      <td>0</td>\n",
       "      <td>0</td>\n",
       "      <td>0</td>\n",
       "      <td>0</td>\n",
       "      <td>0</td>\n",
       "      <td>0</td>\n",
       "      <td>0</td>\n",
       "      <td>0</td>\n",
       "      <td>1</td>\n",
       "      <td>0</td>\n",
       "      <td>0</td>\n",
       "      <td>1</td>\n",
       "    </tr>\n",
       "    <tr>\n",
       "      <th>2</th>\n",
       "      <td>2400</td>\n",
       "      <td>3</td>\n",
       "      <td>20</td>\n",
       "      <td>165</td>\n",
       "      <td>1</td>\n",
       "      <td>450.0</td>\n",
       "      <td>6524.0</td>\n",
       "      <td>2500.0</td>\n",
       "      <td>70.0</td>\n",
       "      <td>0</td>\n",
       "      <td>1</td>\n",
       "      <td>0</td>\n",
       "      <td>0</td>\n",
       "      <td>0</td>\n",
       "      <td>0</td>\n",
       "      <td>0</td>\n",
       "      <td>0</td>\n",
       "      <td>0</td>\n",
       "      <td>0</td>\n",
       "      <td>0</td>\n",
       "      <td>0</td>\n",
       "      <td>0</td>\n",
       "      <td>0</td>\n",
       "      <td>0</td>\n",
       "      <td>0</td>\n",
       "      <td>0</td>\n",
       "      <td>0</td>\n",
       "      <td>0</td>\n",
       "      <td>0</td>\n",
       "      <td>0</td>\n",
       "      <td>0</td>\n",
       "      <td>0</td>\n",
       "      <td>1</td>\n",
       "      <td>0</td>\n",
       "      <td>0</td>\n",
       "      <td>1</td>\n",
       "    </tr>\n",
       "    <tr>\n",
       "      <th>3</th>\n",
       "      <td>2466</td>\n",
       "      <td>3</td>\n",
       "      <td>20</td>\n",
       "      <td>195</td>\n",
       "      <td>1</td>\n",
       "      <td>820.0</td>\n",
       "      <td>6525.0</td>\n",
       "      <td>2300.0</td>\n",
       "      <td>200.0</td>\n",
       "      <td>0</td>\n",
       "      <td>1</td>\n",
       "      <td>0</td>\n",
       "      <td>0</td>\n",
       "      <td>0</td>\n",
       "      <td>0</td>\n",
       "      <td>0</td>\n",
       "      <td>0</td>\n",
       "      <td>0</td>\n",
       "      <td>0</td>\n",
       "      <td>0</td>\n",
       "      <td>0</td>\n",
       "      <td>0</td>\n",
       "      <td>0</td>\n",
       "      <td>0</td>\n",
       "      <td>0</td>\n",
       "      <td>0</td>\n",
       "      <td>0</td>\n",
       "      <td>0</td>\n",
       "      <td>0</td>\n",
       "      <td>0</td>\n",
       "      <td>0</td>\n",
       "      <td>0</td>\n",
       "      <td>1</td>\n",
       "      <td>0</td>\n",
       "      <td>0</td>\n",
       "      <td>1</td>\n",
       "    </tr>\n",
       "    <tr>\n",
       "      <th>4</th>\n",
       "      <td>108</td>\n",
       "      <td>3</td>\n",
       "      <td>30</td>\n",
       "      <td>202</td>\n",
       "      <td>0</td>\n",
       "      <td>237.0</td>\n",
       "      <td>6526.0</td>\n",
       "      <td>40.0</td>\n",
       "      <td>40.0</td>\n",
       "      <td>0</td>\n",
       "      <td>0</td>\n",
       "      <td>1</td>\n",
       "      <td>0</td>\n",
       "      <td>0</td>\n",
       "      <td>0</td>\n",
       "      <td>0</td>\n",
       "      <td>0</td>\n",
       "      <td>0</td>\n",
       "      <td>0</td>\n",
       "      <td>0</td>\n",
       "      <td>0</td>\n",
       "      <td>0</td>\n",
       "      <td>0</td>\n",
       "      <td>0</td>\n",
       "      <td>0</td>\n",
       "      <td>0</td>\n",
       "      <td>0</td>\n",
       "      <td>1</td>\n",
       "      <td>0</td>\n",
       "      <td>0</td>\n",
       "      <td>0</td>\n",
       "      <td>0</td>\n",
       "      <td>0</td>\n",
       "      <td>0</td>\n",
       "      <td>0</td>\n",
       "      <td>1</td>\n",
       "    </tr>\n",
       "  </tbody>\n",
       "</table>\n",
       "</div>"
      ],
      "text/plain": [
       "   Flight  DayOfWeek  Time  Length  Delay  elevation_ft  airport_ref  \\\n",
       "0     269          3    15     205      1          11.0       6523.0   \n",
       "1    1558          3    15     222      1        3435.0      19486.0   \n",
       "2    2400          3    20     165      1         450.0       6524.0   \n",
       "3    2466          3    20     195      1         820.0       6525.0   \n",
       "4     108          3    30     202      0         237.0       6526.0   \n",
       "\n",
       "   length_ft  width_ft  Airline_9E  Airline_AA  Airline_AS  Airline_B6  \\\n",
       "0       80.0      80.0           0           0           0           0   \n",
       "1     2700.0      75.0           0           0           0           0   \n",
       "2     2500.0      70.0           0           1           0           0   \n",
       "3     2300.0     200.0           0           1           0           0   \n",
       "4       40.0      40.0           0           0           1           0   \n",
       "\n",
       "   Airline_CO  Airline_DL  Airline_EV  Airline_F9  Airline_HA  Airline_MQ  \\\n",
       "0           1           0           0           0           0           0   \n",
       "1           0           0           0           0           0           0   \n",
       "2           0           0           0           0           0           0   \n",
       "3           0           0           0           0           0           0   \n",
       "4           0           0           0           0           0           0   \n",
       "\n",
       "   Airline_OH  Airline_OO  Airline_UA  Airline_US  Airline_WN  Airline_XE  \\\n",
       "0           0           0           0           0           0           0   \n",
       "1           0           0           0           1           0           0   \n",
       "2           0           0           0           0           0           0   \n",
       "3           0           0           0           0           0           0   \n",
       "4           0           0           0           0           0           0   \n",
       "\n",
       "   Airline_YV  type_balloonport  type_closed  type_heliport  \\\n",
       "0           0                 0            0              1   \n",
       "1           0                 0            0              0   \n",
       "2           0                 0            0              0   \n",
       "3           0                 0            0              0   \n",
       "4           0                 0            1              0   \n",
       "\n",
       "   type_large_airport  type_medium_airport  type_seaplane_base  \\\n",
       "0                   0                    0                   0   \n",
       "1                   0                    0                   0   \n",
       "2                   0                    0                   0   \n",
       "3                   0                    0                   0   \n",
       "4                   0                    0                   0   \n",
       "\n",
       "   type_small_airport  travelling_duration_short-distance  \\\n",
       "0                   0                                   0   \n",
       "1                   1                                   0   \n",
       "2                   1                                   0   \n",
       "3                   1                                   0   \n",
       "4                   0                                   0   \n",
       "\n",
       "   travelling_duration_medium-distance  travelling_duration_long-distance  \n",
       "0                                    0                                  1  \n",
       "1                                    0                                  1  \n",
       "2                                    0                                  1  \n",
       "3                                    0                                  1  \n",
       "4                                    0                                  1  "
      ]
     },
     "execution_count": 198,
     "metadata": {},
     "output_type": "execute_result"
    }
   ],
   "source": [
    "merged_Df1.head()"
   ]
  },
  {
   "cell_type": "markdown",
   "id": "08f36e46",
   "metadata": {},
   "source": [
    "### *Importing Machine Learning libraries"
   ]
  },
  {
   "cell_type": "code",
   "execution_count": 199,
   "id": "9728d156",
   "metadata": {},
   "outputs": [],
   "source": [
    "from sklearn.model_selection import train_test_split,StratifiedKFold,RandomizedSearchCV\n",
    "from sklearn.linear_model import LogisticRegression,SGDClassifier\n",
    "from sklearn.model_selection import cross_val_score,KFold\n",
    "from sklearn.preprocessing import StandardScaler\n",
    "from sklearn.tree import DecisionTreeClassifier\n",
    "from xgboost import XGBClassifier\n",
    "from sklearn.metrics import accuracy_score,make_scorer"
   ]
  },
  {
   "cell_type": "code",
   "execution_count": 200,
   "id": "6f8c9b89",
   "metadata": {},
   "outputs": [
    {
     "data": {
      "text/html": [
       "<div>\n",
       "<style scoped>\n",
       "    .dataframe tbody tr th:only-of-type {\n",
       "        vertical-align: middle;\n",
       "    }\n",
       "\n",
       "    .dataframe tbody tr th {\n",
       "        vertical-align: top;\n",
       "    }\n",
       "\n",
       "    .dataframe thead th {\n",
       "        text-align: right;\n",
       "    }\n",
       "</style>\n",
       "<table border=\"1\" class=\"dataframe\">\n",
       "  <thead>\n",
       "    <tr style=\"text-align: right;\">\n",
       "      <th></th>\n",
       "      <th>Flight</th>\n",
       "      <th>DayOfWeek</th>\n",
       "      <th>Time</th>\n",
       "      <th>Length</th>\n",
       "      <th>Delay</th>\n",
       "      <th>elevation_ft</th>\n",
       "      <th>airport_ref</th>\n",
       "      <th>length_ft</th>\n",
       "      <th>width_ft</th>\n",
       "      <th>Airline_9E</th>\n",
       "      <th>Airline_AA</th>\n",
       "      <th>Airline_AS</th>\n",
       "      <th>Airline_B6</th>\n",
       "      <th>Airline_CO</th>\n",
       "      <th>Airline_DL</th>\n",
       "      <th>Airline_EV</th>\n",
       "      <th>Airline_F9</th>\n",
       "      <th>Airline_HA</th>\n",
       "      <th>Airline_MQ</th>\n",
       "      <th>Airline_OH</th>\n",
       "      <th>Airline_OO</th>\n",
       "      <th>Airline_UA</th>\n",
       "      <th>Airline_US</th>\n",
       "      <th>Airline_WN</th>\n",
       "      <th>Airline_XE</th>\n",
       "      <th>Airline_YV</th>\n",
       "      <th>type_balloonport</th>\n",
       "      <th>type_closed</th>\n",
       "      <th>type_heliport</th>\n",
       "      <th>type_large_airport</th>\n",
       "      <th>type_medium_airport</th>\n",
       "      <th>type_seaplane_base</th>\n",
       "      <th>type_small_airport</th>\n",
       "      <th>travelling_duration_short-distance</th>\n",
       "      <th>travelling_duration_medium-distance</th>\n",
       "      <th>travelling_duration_long-distance</th>\n",
       "    </tr>\n",
       "  </thead>\n",
       "  <tbody>\n",
       "    <tr>\n",
       "      <th>0</th>\n",
       "      <td>269</td>\n",
       "      <td>3</td>\n",
       "      <td>15</td>\n",
       "      <td>205</td>\n",
       "      <td>1</td>\n",
       "      <td>11.0</td>\n",
       "      <td>6523.0</td>\n",
       "      <td>80.0</td>\n",
       "      <td>80.0</td>\n",
       "      <td>0</td>\n",
       "      <td>0</td>\n",
       "      <td>0</td>\n",
       "      <td>0</td>\n",
       "      <td>1</td>\n",
       "      <td>0</td>\n",
       "      <td>0</td>\n",
       "      <td>0</td>\n",
       "      <td>0</td>\n",
       "      <td>0</td>\n",
       "      <td>0</td>\n",
       "      <td>0</td>\n",
       "      <td>0</td>\n",
       "      <td>0</td>\n",
       "      <td>0</td>\n",
       "      <td>0</td>\n",
       "      <td>0</td>\n",
       "      <td>0</td>\n",
       "      <td>0</td>\n",
       "      <td>1</td>\n",
       "      <td>0</td>\n",
       "      <td>0</td>\n",
       "      <td>0</td>\n",
       "      <td>0</td>\n",
       "      <td>0</td>\n",
       "      <td>0</td>\n",
       "      <td>1</td>\n",
       "    </tr>\n",
       "    <tr>\n",
       "      <th>1</th>\n",
       "      <td>1558</td>\n",
       "      <td>3</td>\n",
       "      <td>15</td>\n",
       "      <td>222</td>\n",
       "      <td>1</td>\n",
       "      <td>3435.0</td>\n",
       "      <td>19486.0</td>\n",
       "      <td>2700.0</td>\n",
       "      <td>75.0</td>\n",
       "      <td>0</td>\n",
       "      <td>0</td>\n",
       "      <td>0</td>\n",
       "      <td>0</td>\n",
       "      <td>0</td>\n",
       "      <td>0</td>\n",
       "      <td>0</td>\n",
       "      <td>0</td>\n",
       "      <td>0</td>\n",
       "      <td>0</td>\n",
       "      <td>0</td>\n",
       "      <td>0</td>\n",
       "      <td>0</td>\n",
       "      <td>1</td>\n",
       "      <td>0</td>\n",
       "      <td>0</td>\n",
       "      <td>0</td>\n",
       "      <td>0</td>\n",
       "      <td>0</td>\n",
       "      <td>0</td>\n",
       "      <td>0</td>\n",
       "      <td>0</td>\n",
       "      <td>0</td>\n",
       "      <td>1</td>\n",
       "      <td>0</td>\n",
       "      <td>0</td>\n",
       "      <td>1</td>\n",
       "    </tr>\n",
       "    <tr>\n",
       "      <th>2</th>\n",
       "      <td>2400</td>\n",
       "      <td>3</td>\n",
       "      <td>20</td>\n",
       "      <td>165</td>\n",
       "      <td>1</td>\n",
       "      <td>450.0</td>\n",
       "      <td>6524.0</td>\n",
       "      <td>2500.0</td>\n",
       "      <td>70.0</td>\n",
       "      <td>0</td>\n",
       "      <td>1</td>\n",
       "      <td>0</td>\n",
       "      <td>0</td>\n",
       "      <td>0</td>\n",
       "      <td>0</td>\n",
       "      <td>0</td>\n",
       "      <td>0</td>\n",
       "      <td>0</td>\n",
       "      <td>0</td>\n",
       "      <td>0</td>\n",
       "      <td>0</td>\n",
       "      <td>0</td>\n",
       "      <td>0</td>\n",
       "      <td>0</td>\n",
       "      <td>0</td>\n",
       "      <td>0</td>\n",
       "      <td>0</td>\n",
       "      <td>0</td>\n",
       "      <td>0</td>\n",
       "      <td>0</td>\n",
       "      <td>0</td>\n",
       "      <td>0</td>\n",
       "      <td>1</td>\n",
       "      <td>0</td>\n",
       "      <td>0</td>\n",
       "      <td>1</td>\n",
       "    </tr>\n",
       "    <tr>\n",
       "      <th>3</th>\n",
       "      <td>2466</td>\n",
       "      <td>3</td>\n",
       "      <td>20</td>\n",
       "      <td>195</td>\n",
       "      <td>1</td>\n",
       "      <td>820.0</td>\n",
       "      <td>6525.0</td>\n",
       "      <td>2300.0</td>\n",
       "      <td>200.0</td>\n",
       "      <td>0</td>\n",
       "      <td>1</td>\n",
       "      <td>0</td>\n",
       "      <td>0</td>\n",
       "      <td>0</td>\n",
       "      <td>0</td>\n",
       "      <td>0</td>\n",
       "      <td>0</td>\n",
       "      <td>0</td>\n",
       "      <td>0</td>\n",
       "      <td>0</td>\n",
       "      <td>0</td>\n",
       "      <td>0</td>\n",
       "      <td>0</td>\n",
       "      <td>0</td>\n",
       "      <td>0</td>\n",
       "      <td>0</td>\n",
       "      <td>0</td>\n",
       "      <td>0</td>\n",
       "      <td>0</td>\n",
       "      <td>0</td>\n",
       "      <td>0</td>\n",
       "      <td>0</td>\n",
       "      <td>1</td>\n",
       "      <td>0</td>\n",
       "      <td>0</td>\n",
       "      <td>1</td>\n",
       "    </tr>\n",
       "    <tr>\n",
       "      <th>4</th>\n",
       "      <td>108</td>\n",
       "      <td>3</td>\n",
       "      <td>30</td>\n",
       "      <td>202</td>\n",
       "      <td>0</td>\n",
       "      <td>237.0</td>\n",
       "      <td>6526.0</td>\n",
       "      <td>40.0</td>\n",
       "      <td>40.0</td>\n",
       "      <td>0</td>\n",
       "      <td>0</td>\n",
       "      <td>1</td>\n",
       "      <td>0</td>\n",
       "      <td>0</td>\n",
       "      <td>0</td>\n",
       "      <td>0</td>\n",
       "      <td>0</td>\n",
       "      <td>0</td>\n",
       "      <td>0</td>\n",
       "      <td>0</td>\n",
       "      <td>0</td>\n",
       "      <td>0</td>\n",
       "      <td>0</td>\n",
       "      <td>0</td>\n",
       "      <td>0</td>\n",
       "      <td>0</td>\n",
       "      <td>0</td>\n",
       "      <td>1</td>\n",
       "      <td>0</td>\n",
       "      <td>0</td>\n",
       "      <td>0</td>\n",
       "      <td>0</td>\n",
       "      <td>0</td>\n",
       "      <td>0</td>\n",
       "      <td>0</td>\n",
       "      <td>1</td>\n",
       "    </tr>\n",
       "  </tbody>\n",
       "</table>\n",
       "</div>"
      ],
      "text/plain": [
       "   Flight  DayOfWeek  Time  Length  Delay  elevation_ft  airport_ref  \\\n",
       "0     269          3    15     205      1          11.0       6523.0   \n",
       "1    1558          3    15     222      1        3435.0      19486.0   \n",
       "2    2400          3    20     165      1         450.0       6524.0   \n",
       "3    2466          3    20     195      1         820.0       6525.0   \n",
       "4     108          3    30     202      0         237.0       6526.0   \n",
       "\n",
       "   length_ft  width_ft  Airline_9E  Airline_AA  Airline_AS  Airline_B6  \\\n",
       "0       80.0      80.0           0           0           0           0   \n",
       "1     2700.0      75.0           0           0           0           0   \n",
       "2     2500.0      70.0           0           1           0           0   \n",
       "3     2300.0     200.0           0           1           0           0   \n",
       "4       40.0      40.0           0           0           1           0   \n",
       "\n",
       "   Airline_CO  Airline_DL  Airline_EV  Airline_F9  Airline_HA  Airline_MQ  \\\n",
       "0           1           0           0           0           0           0   \n",
       "1           0           0           0           0           0           0   \n",
       "2           0           0           0           0           0           0   \n",
       "3           0           0           0           0           0           0   \n",
       "4           0           0           0           0           0           0   \n",
       "\n",
       "   Airline_OH  Airline_OO  Airline_UA  Airline_US  Airline_WN  Airline_XE  \\\n",
       "0           0           0           0           0           0           0   \n",
       "1           0           0           0           1           0           0   \n",
       "2           0           0           0           0           0           0   \n",
       "3           0           0           0           0           0           0   \n",
       "4           0           0           0           0           0           0   \n",
       "\n",
       "   Airline_YV  type_balloonport  type_closed  type_heliport  \\\n",
       "0           0                 0            0              1   \n",
       "1           0                 0            0              0   \n",
       "2           0                 0            0              0   \n",
       "3           0                 0            0              0   \n",
       "4           0                 0            1              0   \n",
       "\n",
       "   type_large_airport  type_medium_airport  type_seaplane_base  \\\n",
       "0                   0                    0                   0   \n",
       "1                   0                    0                   0   \n",
       "2                   0                    0                   0   \n",
       "3                   0                    0                   0   \n",
       "4                   0                    0                   0   \n",
       "\n",
       "   type_small_airport  travelling_duration_short-distance  \\\n",
       "0                   0                                   0   \n",
       "1                   1                                   0   \n",
       "2                   1                                   0   \n",
       "3                   1                                   0   \n",
       "4                   0                                   0   \n",
       "\n",
       "   travelling_duration_medium-distance  travelling_duration_long-distance  \n",
       "0                                    0                                  1  \n",
       "1                                    0                                  1  \n",
       "2                                    0                                  1  \n",
       "3                                    0                                  1  \n",
       "4                                    0                                  1  "
      ]
     },
     "execution_count": 200,
     "metadata": {},
     "output_type": "execute_result"
    }
   ],
   "source": [
    "merged_Df1.head()"
   ]
  },
  {
   "cell_type": "markdown",
   "id": "f0af6bea",
   "metadata": {},
   "source": [
    "#### **Performing Standardization on some coloumns to bring values in same range"
   ]
  },
  {
   "cell_type": "code",
   "execution_count": 201,
   "id": "c98ba8b9",
   "metadata": {},
   "outputs": [],
   "source": [
    "cols_to_scale=['Flight','Time','Length','elevation_ft','airport_ref','length_ft','width_ft']"
   ]
  },
  {
   "cell_type": "code",
   "execution_count": 202,
   "id": "a9b9d597",
   "metadata": {},
   "outputs": [],
   "source": [
    "scaler=StandardScaler()"
   ]
  },
  {
   "cell_type": "code",
   "execution_count": 203,
   "id": "f3f280f7",
   "metadata": {},
   "outputs": [],
   "source": [
    "merged_Df1[cols_to_scale]=scaler.fit_transform(merged_Df1[cols_to_scale])"
   ]
  },
  {
   "cell_type": "code",
   "execution_count": 204,
   "id": "08bf9776",
   "metadata": {},
   "outputs": [
    {
     "data": {
      "text/html": [
       "<div>\n",
       "<style scoped>\n",
       "    .dataframe tbody tr th:only-of-type {\n",
       "        vertical-align: middle;\n",
       "    }\n",
       "\n",
       "    .dataframe tbody tr th {\n",
       "        vertical-align: top;\n",
       "    }\n",
       "\n",
       "    .dataframe thead th {\n",
       "        text-align: right;\n",
       "    }\n",
       "</style>\n",
       "<table border=\"1\" class=\"dataframe\">\n",
       "  <thead>\n",
       "    <tr style=\"text-align: right;\">\n",
       "      <th></th>\n",
       "      <th>Flight</th>\n",
       "      <th>DayOfWeek</th>\n",
       "      <th>Time</th>\n",
       "      <th>Length</th>\n",
       "      <th>Delay</th>\n",
       "      <th>elevation_ft</th>\n",
       "      <th>airport_ref</th>\n",
       "      <th>length_ft</th>\n",
       "      <th>width_ft</th>\n",
       "      <th>Airline_9E</th>\n",
       "      <th>Airline_AA</th>\n",
       "      <th>Airline_AS</th>\n",
       "      <th>Airline_B6</th>\n",
       "      <th>Airline_CO</th>\n",
       "      <th>Airline_DL</th>\n",
       "      <th>Airline_EV</th>\n",
       "      <th>Airline_F9</th>\n",
       "      <th>Airline_HA</th>\n",
       "      <th>Airline_MQ</th>\n",
       "      <th>Airline_OH</th>\n",
       "      <th>Airline_OO</th>\n",
       "      <th>Airline_UA</th>\n",
       "      <th>Airline_US</th>\n",
       "      <th>Airline_WN</th>\n",
       "      <th>Airline_XE</th>\n",
       "      <th>Airline_YV</th>\n",
       "      <th>type_balloonport</th>\n",
       "      <th>type_closed</th>\n",
       "      <th>type_heliport</th>\n",
       "      <th>type_large_airport</th>\n",
       "      <th>type_medium_airport</th>\n",
       "      <th>type_seaplane_base</th>\n",
       "      <th>type_small_airport</th>\n",
       "      <th>travelling_duration_short-distance</th>\n",
       "      <th>travelling_duration_medium-distance</th>\n",
       "      <th>travelling_duration_long-distance</th>\n",
       "    </tr>\n",
       "  </thead>\n",
       "  <tbody>\n",
       "    <tr>\n",
       "      <th>0</th>\n",
       "      <td>-1.074536</td>\n",
       "      <td>3</td>\n",
       "      <td>-2.823451</td>\n",
       "      <td>1.026333</td>\n",
       "      <td>1</td>\n",
       "      <td>-1.268408</td>\n",
       "      <td>-0.552417</td>\n",
       "      <td>-3.358642</td>\n",
       "      <td>0.036184</td>\n",
       "      <td>0</td>\n",
       "      <td>0</td>\n",
       "      <td>0</td>\n",
       "      <td>0</td>\n",
       "      <td>1</td>\n",
       "      <td>0</td>\n",
       "      <td>0</td>\n",
       "      <td>0</td>\n",
       "      <td>0</td>\n",
       "      <td>0</td>\n",
       "      <td>0</td>\n",
       "      <td>0</td>\n",
       "      <td>0</td>\n",
       "      <td>0</td>\n",
       "      <td>0</td>\n",
       "      <td>0</td>\n",
       "      <td>0</td>\n",
       "      <td>0</td>\n",
       "      <td>0</td>\n",
       "      <td>1</td>\n",
       "      <td>0</td>\n",
       "      <td>0</td>\n",
       "      <td>0</td>\n",
       "      <td>0</td>\n",
       "      <td>0</td>\n",
       "      <td>0</td>\n",
       "      <td>1</td>\n",
       "    </tr>\n",
       "    <tr>\n",
       "      <th>1</th>\n",
       "      <td>-0.453383</td>\n",
       "      <td>3</td>\n",
       "      <td>-2.823451</td>\n",
       "      <td>1.266023</td>\n",
       "      <td>1</td>\n",
       "      <td>4.287461</td>\n",
       "      <td>-0.084808</td>\n",
       "      <td>-0.057593</td>\n",
       "      <td>-0.041617</td>\n",
       "      <td>0</td>\n",
       "      <td>0</td>\n",
       "      <td>0</td>\n",
       "      <td>0</td>\n",
       "      <td>0</td>\n",
       "      <td>0</td>\n",
       "      <td>0</td>\n",
       "      <td>0</td>\n",
       "      <td>0</td>\n",
       "      <td>0</td>\n",
       "      <td>0</td>\n",
       "      <td>0</td>\n",
       "      <td>0</td>\n",
       "      <td>1</td>\n",
       "      <td>0</td>\n",
       "      <td>0</td>\n",
       "      <td>0</td>\n",
       "      <td>0</td>\n",
       "      <td>0</td>\n",
       "      <td>0</td>\n",
       "      <td>0</td>\n",
       "      <td>0</td>\n",
       "      <td>0</td>\n",
       "      <td>1</td>\n",
       "      <td>0</td>\n",
       "      <td>0</td>\n",
       "      <td>1</td>\n",
       "    </tr>\n",
       "    <tr>\n",
       "      <th>2</th>\n",
       "      <td>-0.047633</td>\n",
       "      <td>3</td>\n",
       "      <td>-2.805463</td>\n",
       "      <td>0.462354</td>\n",
       "      <td>1</td>\n",
       "      <td>-0.556075</td>\n",
       "      <td>-0.552381</td>\n",
       "      <td>-0.309582</td>\n",
       "      <td>-0.119418</td>\n",
       "      <td>0</td>\n",
       "      <td>1</td>\n",
       "      <td>0</td>\n",
       "      <td>0</td>\n",
       "      <td>0</td>\n",
       "      <td>0</td>\n",
       "      <td>0</td>\n",
       "      <td>0</td>\n",
       "      <td>0</td>\n",
       "      <td>0</td>\n",
       "      <td>0</td>\n",
       "      <td>0</td>\n",
       "      <td>0</td>\n",
       "      <td>0</td>\n",
       "      <td>0</td>\n",
       "      <td>0</td>\n",
       "      <td>0</td>\n",
       "      <td>0</td>\n",
       "      <td>0</td>\n",
       "      <td>0</td>\n",
       "      <td>0</td>\n",
       "      <td>0</td>\n",
       "      <td>0</td>\n",
       "      <td>1</td>\n",
       "      <td>0</td>\n",
       "      <td>0</td>\n",
       "      <td>1</td>\n",
       "    </tr>\n",
       "    <tr>\n",
       "      <th>3</th>\n",
       "      <td>-0.015829</td>\n",
       "      <td>3</td>\n",
       "      <td>-2.805463</td>\n",
       "      <td>0.885338</td>\n",
       "      <td>1</td>\n",
       "      <td>0.044296</td>\n",
       "      <td>-0.552345</td>\n",
       "      <td>-0.561570</td>\n",
       "      <td>1.903412</td>\n",
       "      <td>0</td>\n",
       "      <td>1</td>\n",
       "      <td>0</td>\n",
       "      <td>0</td>\n",
       "      <td>0</td>\n",
       "      <td>0</td>\n",
       "      <td>0</td>\n",
       "      <td>0</td>\n",
       "      <td>0</td>\n",
       "      <td>0</td>\n",
       "      <td>0</td>\n",
       "      <td>0</td>\n",
       "      <td>0</td>\n",
       "      <td>0</td>\n",
       "      <td>0</td>\n",
       "      <td>0</td>\n",
       "      <td>0</td>\n",
       "      <td>0</td>\n",
       "      <td>0</td>\n",
       "      <td>0</td>\n",
       "      <td>0</td>\n",
       "      <td>0</td>\n",
       "      <td>0</td>\n",
       "      <td>1</td>\n",
       "      <td>0</td>\n",
       "      <td>0</td>\n",
       "      <td>1</td>\n",
       "    </tr>\n",
       "    <tr>\n",
       "      <th>4</th>\n",
       "      <td>-1.152120</td>\n",
       "      <td>3</td>\n",
       "      <td>-2.769487</td>\n",
       "      <td>0.984034</td>\n",
       "      <td>0</td>\n",
       "      <td>-0.901695</td>\n",
       "      <td>-0.552309</td>\n",
       "      <td>-3.409040</td>\n",
       "      <td>-0.586225</td>\n",
       "      <td>0</td>\n",
       "      <td>0</td>\n",
       "      <td>1</td>\n",
       "      <td>0</td>\n",
       "      <td>0</td>\n",
       "      <td>0</td>\n",
       "      <td>0</td>\n",
       "      <td>0</td>\n",
       "      <td>0</td>\n",
       "      <td>0</td>\n",
       "      <td>0</td>\n",
       "      <td>0</td>\n",
       "      <td>0</td>\n",
       "      <td>0</td>\n",
       "      <td>0</td>\n",
       "      <td>0</td>\n",
       "      <td>0</td>\n",
       "      <td>0</td>\n",
       "      <td>1</td>\n",
       "      <td>0</td>\n",
       "      <td>0</td>\n",
       "      <td>0</td>\n",
       "      <td>0</td>\n",
       "      <td>0</td>\n",
       "      <td>0</td>\n",
       "      <td>0</td>\n",
       "      <td>1</td>\n",
       "    </tr>\n",
       "  </tbody>\n",
       "</table>\n",
       "</div>"
      ],
      "text/plain": [
       "     Flight  DayOfWeek      Time    Length  Delay  elevation_ft  airport_ref  \\\n",
       "0 -1.074536          3 -2.823451  1.026333      1     -1.268408    -0.552417   \n",
       "1 -0.453383          3 -2.823451  1.266023      1      4.287461    -0.084808   \n",
       "2 -0.047633          3 -2.805463  0.462354      1     -0.556075    -0.552381   \n",
       "3 -0.015829          3 -2.805463  0.885338      1      0.044296    -0.552345   \n",
       "4 -1.152120          3 -2.769487  0.984034      0     -0.901695    -0.552309   \n",
       "\n",
       "   length_ft  width_ft  Airline_9E  Airline_AA  Airline_AS  Airline_B6  \\\n",
       "0  -3.358642  0.036184           0           0           0           0   \n",
       "1  -0.057593 -0.041617           0           0           0           0   \n",
       "2  -0.309582 -0.119418           0           1           0           0   \n",
       "3  -0.561570  1.903412           0           1           0           0   \n",
       "4  -3.409040 -0.586225           0           0           1           0   \n",
       "\n",
       "   Airline_CO  Airline_DL  Airline_EV  Airline_F9  Airline_HA  Airline_MQ  \\\n",
       "0           1           0           0           0           0           0   \n",
       "1           0           0           0           0           0           0   \n",
       "2           0           0           0           0           0           0   \n",
       "3           0           0           0           0           0           0   \n",
       "4           0           0           0           0           0           0   \n",
       "\n",
       "   Airline_OH  Airline_OO  Airline_UA  Airline_US  Airline_WN  Airline_XE  \\\n",
       "0           0           0           0           0           0           0   \n",
       "1           0           0           0           1           0           0   \n",
       "2           0           0           0           0           0           0   \n",
       "3           0           0           0           0           0           0   \n",
       "4           0           0           0           0           0           0   \n",
       "\n",
       "   Airline_YV  type_balloonport  type_closed  type_heliport  \\\n",
       "0           0                 0            0              1   \n",
       "1           0                 0            0              0   \n",
       "2           0                 0            0              0   \n",
       "3           0                 0            0              0   \n",
       "4           0                 0            1              0   \n",
       "\n",
       "   type_large_airport  type_medium_airport  type_seaplane_base  \\\n",
       "0                   0                    0                   0   \n",
       "1                   0                    0                   0   \n",
       "2                   0                    0                   0   \n",
       "3                   0                    0                   0   \n",
       "4                   0                    0                   0   \n",
       "\n",
       "   type_small_airport  travelling_duration_short-distance  \\\n",
       "0                   0                                   0   \n",
       "1                   1                                   0   \n",
       "2                   1                                   0   \n",
       "3                   1                                   0   \n",
       "4                   0                                   0   \n",
       "\n",
       "   travelling_duration_medium-distance  travelling_duration_long-distance  \n",
       "0                                    0                                  1  \n",
       "1                                    0                                  1  \n",
       "2                                    0                                  1  \n",
       "3                                    0                                  1  \n",
       "4                                    0                                  1  "
      ]
     },
     "execution_count": 204,
     "metadata": {},
     "output_type": "execute_result"
    }
   ],
   "source": [
    "merged_Df1.head()"
   ]
  },
  {
   "cell_type": "markdown",
   "id": "d1f847e0",
   "metadata": {},
   "source": [
    "#### **splitting data into the x and y variables"
   ]
  },
  {
   "cell_type": "code",
   "execution_count": 205,
   "id": "13d930dc",
   "metadata": {},
   "outputs": [],
   "source": [
    "x=merged_Df1.drop(['Delay'],axis=1)\n",
    "y=merged_Df1.Delay"
   ]
  },
  {
   "cell_type": "code",
   "execution_count": 206,
   "id": "8a7cd35b",
   "metadata": {},
   "outputs": [],
   "source": [
    "# split data into training and testing\n",
    "x_train,x_test,y_train,y_test=train_test_split(x,y,test_size=0.1,random_state=42)"
   ]
  },
  {
   "cell_type": "markdown",
   "id": "6d0d4db7",
   "metadata": {},
   "source": [
    "## --Apply stochastic gradient descent optimizer and decision tree models"
   ]
  },
  {
   "cell_type": "code",
   "execution_count": 207,
   "id": "9dc2cd11",
   "metadata": {},
   "outputs": [],
   "source": [
    "# define models\n",
    "sgd=SGDClassifier(random_state=42)  # SGDClassifier \n",
    "decision=DecisionTreeClassifier(random_state=42)"
   ]
  },
  {
   "cell_type": "markdown",
   "id": "5af632d2",
   "metadata": {},
   "source": [
    "## --Use the stratified five-fold method to build and validate the models"
   ]
  },
  {
   "cell_type": "code",
   "execution_count": 208,
   "id": "5cd795a8",
   "metadata": {},
   "outputs": [],
   "source": [
    "# define cross-validation\n",
    "stratified_kfold=StratifiedKFold(n_splits=5,shuffle=True,random_state=42)"
   ]
  },
  {
   "cell_type": "code",
   "execution_count": 209,
   "id": "6ee9ba7d",
   "metadata": {},
   "outputs": [],
   "source": [
    "# define scorer\n",
    "accuracy_scorer=make_scorer(accuracy_score)"
   ]
  },
  {
   "cell_type": "markdown",
   "id": "ce0adb02",
   "metadata": {},
   "source": [
    "## --Use RandomizedSearchCV for hyperparameter tuning"
   ]
  },
  {
   "cell_type": "code",
   "execution_count": 210,
   "id": "efb0b1ca",
   "metadata": {},
   "outputs": [],
   "source": [
    "# define hyperparameter search space\n",
    "sgd_param={\n",
    "    'alpha':[0.0001,0.001,0.01,0.1,1.0],\n",
    "    'l1_ratio':[0,0.1,0.5,0.7,0.9,1]\n",
    "}\n",
    "tree_param={\n",
    "    'max_depth':[None,5,10,15,20],\n",
    "    'min_samples_split':[2,5,10],\n",
    "    'min_samples_leaf':[1,2,4],\n",
    "}"
   ]
  },
  {
   "cell_type": "code",
   "execution_count": 211,
   "id": "7a6cef42",
   "metadata": {},
   "outputs": [],
   "source": [
    "# hyperparameter tuning with RandomizedSearchCV\n",
    "sgd_random_search=RandomizedSearchCV(sgd,sgd_param,scoring=accuracy_scorer,cv=stratified_kfold,n_iter=10,random_state=42)\n",
    "Decision_tree_random_search=RandomizedSearchCV(decision,tree_param,scoring=accuracy_scorer,cv=stratified_kfold,n_iter=10,\n",
    "                            random_state=42)"
   ]
  },
  {
   "cell_type": "code",
   "execution_count": 212,
   "id": "65f3565c",
   "metadata": {},
   "outputs": [
    {
     "data": {
      "text/plain": [
       "RandomizedSearchCV(cv=StratifiedKFold(n_splits=5, random_state=42, shuffle=True),\n",
       "                   estimator=DecisionTreeClassifier(random_state=42),\n",
       "                   param_distributions={'max_depth': [None, 5, 10, 15, 20],\n",
       "                                        'min_samples_leaf': [1, 2, 4],\n",
       "                                        'min_samples_split': [2, 5, 10]},\n",
       "                   random_state=42, scoring=make_scorer(accuracy_score))"
      ]
     },
     "execution_count": 212,
     "metadata": {},
     "output_type": "execute_result"
    }
   ],
   "source": [
    "# fit models\n",
    "sgd_random_search.fit(x_train,y_train)\n",
    "Decision_tree_random_search.fit(x_train,y_train)"
   ]
  },
  {
   "cell_type": "code",
   "execution_count": 214,
   "id": "21522513",
   "metadata": {},
   "outputs": [],
   "source": [
    "# evaluate models\n",
    "sgd_accuracy=sgd_random_search.score(x_test,y_test)\n",
    "tree_accuracy=Decision_tree_random_search.score(x_test,y_test)"
   ]
  },
  {
   "cell_type": "code",
   "execution_count": 216,
   "id": "34b374d1",
   "metadata": {},
   "outputs": [
    {
     "name": "stdout",
     "output_type": "stream",
     "text": [
      "SGD Classifier Accuracy:0.6295238639176043\n",
      "Decision Tree Classifier Accuracy:0.6479715194090658\n"
     ]
    }
   ],
   "source": [
    "print(f'SGD Classifier Accuracy:{sgd_accuracy}')\n",
    "print(f'Decision Tree Classifier Accuracy:{tree_accuracy}')"
   ]
  },
  {
   "cell_type": "markdown",
   "id": "9f1056bf",
   "metadata": {},
   "source": [
    "**Decision tree classifier predicts more accurately compare to stochastic gradient descent optimizer.** "
   ]
  },
  {
   "cell_type": "code",
   "execution_count": null,
   "id": "9b260a8e",
   "metadata": {},
   "outputs": [],
   "source": []
  },
  {
   "cell_type": "code",
   "execution_count": null,
   "id": "9227f54b",
   "metadata": {},
   "outputs": [],
   "source": []
  }
 ],
 "metadata": {
  "kernelspec": {
   "display_name": "Python 3 (ipykernel)",
   "language": "python",
   "name": "python3"
  },
  "language_info": {
   "codemirror_mode": {
    "name": "ipython",
    "version": 3
   },
   "file_extension": ".py",
   "mimetype": "text/x-python",
   "name": "python",
   "nbconvert_exporter": "python",
   "pygments_lexer": "ipython3",
   "version": "3.9.13"
  }
 },
 "nbformat": 4,
 "nbformat_minor": 5
}
